{
 "cells": [
  {
   "cell_type": "markdown",
   "metadata": {},
   "source": [
    "# Series \n",
    "- 1 D labeled array that can hold any data type\n",
    "- We can use default index or our own indexes(unlike python lists)"
   ]
  },
  {
   "cell_type": "code",
   "execution_count": 1,
   "metadata": {},
   "outputs": [],
   "source": [
    "import pandas as pd"
   ]
  },
  {
   "cell_type": "code",
   "execution_count": 4,
   "metadata": {},
   "outputs": [
    {
     "data": {
      "text/plain": [
       "0    1\n",
       "1    2\n",
       "2    3\n",
       "3    4\n",
       "4    5\n",
       "5    6\n",
       "6    7\n",
       "dtype: int64"
      ]
     },
     "execution_count": 4,
     "metadata": {},
     "output_type": "execute_result"
    }
   ],
   "source": [
    "# Creating pd series with default indexes\n",
    "s=pd.Series([1,2,3,4,5,6,7])\n",
    "s"
   ]
  },
  {
   "cell_type": "code",
   "execution_count": 5,
   "metadata": {},
   "outputs": [
    {
     "data": {
      "text/plain": [
       "Mon      1\n",
       "Tue      2\n",
       "Wed      3\n",
       "Thurs    4\n",
       "Fri      5\n",
       "Sat      6\n",
       "Sun      7\n",
       "dtype: int64"
      ]
     },
     "execution_count": 5,
     "metadata": {},
     "output_type": "execute_result"
    }
   ],
   "source": [
    "# Creating pd series with custom indexes\n",
    "s = pd.Series([1,2,3,4,5,6,7],index=['Mon','Tue','Wed','Thurs','Fri','Sat','Sun'])\n",
    "s"
   ]
  },
  {
   "cell_type": "code",
   "execution_count": 6,
   "metadata": {},
   "outputs": [
    {
     "data": {
      "text/plain": [
       "1"
      ]
     },
     "execution_count": 6,
     "metadata": {},
     "output_type": "execute_result"
    }
   ],
   "source": [
    "s[0] # or s['Mon']"
   ]
  },
  {
   "cell_type": "code",
   "execution_count": 7,
   "metadata": {},
   "outputs": [
    {
     "data": {
      "text/plain": [
       "Mon       1\n",
       "Tue       2\n",
       "Wed       3\n",
       "Thurs     4\n",
       "Fri       5\n",
       "Sat       6\n",
       "Sun      99\n",
       "dtype: int64"
      ]
     },
     "execution_count": 7,
     "metadata": {},
     "output_type": "execute_result"
    }
   ],
   "source": [
    "s['Sun']=99\n",
    "s"
   ]
  },
  {
   "cell_type": "code",
   "execution_count": 8,
   "metadata": {},
   "outputs": [
    {
     "data": {
      "text/plain": [
       "17.142857142857142"
      ]
     },
     "execution_count": 8,
     "metadata": {},
     "output_type": "execute_result"
    }
   ],
   "source": [
    "s.mean()"
   ]
  },
  {
   "cell_type": "code",
   "execution_count": 9,
   "metadata": {},
   "outputs": [
    {
     "data": {
      "text/plain": [
       "Mon        3\n",
       "Tue        6\n",
       "Wed        9\n",
       "Thurs     12\n",
       "Fri       15\n",
       "Sat       18\n",
       "Sun      297\n",
       "dtype: int64"
      ]
     },
     "execution_count": 9,
     "metadata": {},
     "output_type": "execute_result"
    }
   ],
   "source": [
    "s*3"
   ]
  },
  {
   "cell_type": "code",
   "execution_count": 10,
   "metadata": {},
   "outputs": [
    {
     "data": {
      "text/plain": [
       "Mon        2\n",
       "Tue        4\n",
       "Wed        6\n",
       "Thurs      8\n",
       "Fri       10\n",
       "Sat       12\n",
       "Sun      198\n",
       "dtype: int64"
      ]
     },
     "execution_count": 10,
     "metadata": {},
     "output_type": "execute_result"
    }
   ],
   "source": [
    "s+s"
   ]
  },
  {
   "cell_type": "markdown",
   "metadata": {},
   "source": [
    "# DataFrame\n",
    "- 2D labeled data structure"
   ]
  },
  {
   "cell_type": "code",
   "execution_count": 11,
   "metadata": {},
   "outputs": [
    {
     "data": {
      "text/html": [
       "<div>\n",
       "<style scoped>\n",
       "    .dataframe tbody tr th:only-of-type {\n",
       "        vertical-align: middle;\n",
       "    }\n",
       "\n",
       "    .dataframe tbody tr th {\n",
       "        vertical-align: top;\n",
       "    }\n",
       "\n",
       "    .dataframe thead th {\n",
       "        text-align: right;\n",
       "    }\n",
       "</style>\n",
       "<table border=\"1\" class=\"dataframe\">\n",
       "  <thead>\n",
       "    <tr style=\"text-align: right;\">\n",
       "      <th></th>\n",
       "      <th>first</th>\n",
       "      <th>second</th>\n",
       "    </tr>\n",
       "  </thead>\n",
       "  <tbody>\n",
       "    <tr>\n",
       "      <th>Mon</th>\n",
       "      <td>1</td>\n",
       "      <td>2</td>\n",
       "    </tr>\n",
       "    <tr>\n",
       "      <th>Tue</th>\n",
       "      <td>2</td>\n",
       "      <td>4</td>\n",
       "    </tr>\n",
       "    <tr>\n",
       "      <th>Wed</th>\n",
       "      <td>3</td>\n",
       "      <td>6</td>\n",
       "    </tr>\n",
       "    <tr>\n",
       "      <th>Thurs</th>\n",
       "      <td>4</td>\n",
       "      <td>8</td>\n",
       "    </tr>\n",
       "    <tr>\n",
       "      <th>Fri</th>\n",
       "      <td>5</td>\n",
       "      <td>10</td>\n",
       "    </tr>\n",
       "    <tr>\n",
       "      <th>Sat</th>\n",
       "      <td>6</td>\n",
       "      <td>12</td>\n",
       "    </tr>\n",
       "    <tr>\n",
       "      <th>Sun</th>\n",
       "      <td>99</td>\n",
       "      <td>198</td>\n",
       "    </tr>\n",
       "  </tbody>\n",
       "</table>\n",
       "</div>"
      ],
      "text/plain": [
       "       first  second\n",
       "Mon        1       2\n",
       "Tue        2       4\n",
       "Wed        3       6\n",
       "Thurs      4       8\n",
       "Fri        5      10\n",
       "Sat        6      12\n",
       "Sun       99     198"
      ]
     },
     "execution_count": 11,
     "metadata": {},
     "output_type": "execute_result"
    }
   ],
   "source": [
    "# making a dataframe with dictionary of series\n",
    "df = pd.DataFrame({'first':s,'second':s*2}) \n",
    "df"
   ]
  },
  {
   "cell_type": "code",
   "execution_count": 12,
   "metadata": {},
   "outputs": [
    {
     "data": {
      "text/html": [
       "<div>\n",
       "<style scoped>\n",
       "    .dataframe tbody tr th:only-of-type {\n",
       "        vertical-align: middle;\n",
       "    }\n",
       "\n",
       "    .dataframe tbody tr th {\n",
       "        vertical-align: top;\n",
       "    }\n",
       "\n",
       "    .dataframe thead th {\n",
       "        text-align: right;\n",
       "    }\n",
       "</style>\n",
       "<table border=\"1\" class=\"dataframe\">\n",
       "  <thead>\n",
       "    <tr style=\"text-align: right;\">\n",
       "      <th></th>\n",
       "      <th>city</th>\n",
       "      <th>population</th>\n",
       "    </tr>\n",
       "  </thead>\n",
       "  <tbody>\n",
       "    <tr>\n",
       "      <th>Japan</th>\n",
       "      <td>Tokyo</td>\n",
       "      <td>37.4</td>\n",
       "    </tr>\n",
       "    <tr>\n",
       "      <th>India</th>\n",
       "      <td>Delhi</td>\n",
       "      <td>28.5</td>\n",
       "    </tr>\n",
       "    <tr>\n",
       "      <th>China</th>\n",
       "      <td>Shanghai</td>\n",
       "      <td>25.6</td>\n",
       "    </tr>\n",
       "    <tr>\n",
       "      <th>Brazil</th>\n",
       "      <td>Sao Paulo</td>\n",
       "      <td>21.7</td>\n",
       "    </tr>\n",
       "    <tr>\n",
       "      <th>Mexico</th>\n",
       "      <td>Mexico City</td>\n",
       "      <td>21.6</td>\n",
       "    </tr>\n",
       "  </tbody>\n",
       "</table>\n",
       "</div>"
      ],
      "text/plain": [
       "               city  population\n",
       "Japan         Tokyo        37.4\n",
       "India         Delhi        28.5\n",
       "China      Shanghai        25.6\n",
       "Brazil    Sao Paulo        21.7\n",
       "Mexico  Mexico City        21.6"
      ]
     },
     "execution_count": 12,
     "metadata": {},
     "output_type": "execute_result"
    }
   ],
   "source": [
    "# making dataframe from lists\n",
    "column_names=['city','population']\n",
    "index_country=['Japan','India','China','Brazil','Mexico']\n",
    "\n",
    "row1=['Tokyo',37.4]\n",
    "row2=['Delhi',28.5]\n",
    "row3=['Shanghai',25.6]\n",
    "row4=['Sao Paulo',21.7]\n",
    "row5=['Mexico City',21.6]\n",
    "\n",
    "data = [row1,row2,row3,row4,row5] # data is list of lists\n",
    "\n",
    "df = pd.DataFrame(data,index=index_country,columns=column_names)\n",
    "\n",
    "df "
   ]
  },
  {
   "cell_type": "code",
   "execution_count": 13,
   "metadata": {},
   "outputs": [
    {
     "data": {
      "text/html": [
       "<div>\n",
       "<style scoped>\n",
       "    .dataframe tbody tr th:only-of-type {\n",
       "        vertical-align: middle;\n",
       "    }\n",
       "\n",
       "    .dataframe tbody tr th {\n",
       "        vertical-align: top;\n",
       "    }\n",
       "\n",
       "    .dataframe thead th {\n",
       "        text-align: right;\n",
       "    }\n",
       "</style>\n",
       "<table border=\"1\" class=\"dataframe\">\n",
       "  <thead>\n",
       "    <tr style=\"text-align: right;\">\n",
       "      <th></th>\n",
       "      <th>city</th>\n",
       "      <th>population</th>\n",
       "    </tr>\n",
       "  </thead>\n",
       "  <tbody>\n",
       "    <tr>\n",
       "      <th>Japan</th>\n",
       "      <td>Tokyo</td>\n",
       "      <td>37.4</td>\n",
       "    </tr>\n",
       "    <tr>\n",
       "      <th>India</th>\n",
       "      <td>Delhi</td>\n",
       "      <td>28.5</td>\n",
       "    </tr>\n",
       "    <tr>\n",
       "      <th>China</th>\n",
       "      <td>Shanghai</td>\n",
       "      <td>25.6</td>\n",
       "    </tr>\n",
       "    <tr>\n",
       "      <th>Brazil</th>\n",
       "      <td>Sao Paulo</td>\n",
       "      <td>21.7</td>\n",
       "    </tr>\n",
       "    <tr>\n",
       "      <th>Mexico</th>\n",
       "      <td>Mexico City</td>\n",
       "      <td>21.6</td>\n",
       "    </tr>\n",
       "  </tbody>\n",
       "</table>\n",
       "</div>"
      ],
      "text/plain": [
       "               city  population\n",
       "Japan         Tokyo        37.4\n",
       "India         Delhi        28.5\n",
       "China      Shanghai        25.6\n",
       "Brazil    Sao Paulo        21.7\n",
       "Mexico  Mexico City        21.6"
      ]
     },
     "execution_count": 13,
     "metadata": {},
     "output_type": "execute_result"
    }
   ],
   "source": [
    "# making a dataframe from dictionaries\n",
    "cities=['Tokyo','Delhi','Shanghai','Sao Paulo','Mexico City']\n",
    "population=[37.4,28.5,25.6,21.7,21.6]\n",
    "index_country=['Japan','India','China','Brazil','Mexico']\n",
    "\n",
    "dict_population = {'city':cities,'population':population}\n",
    "\n",
    "df = pd.DataFrame(dict_population,index=index_country)\n",
    "\n",
    "df"
   ]
  },
  {
   "cell_type": "code",
   "execution_count": 14,
   "metadata": {},
   "outputs": [
    {
     "data": {
      "text/plain": [
       "Japan           Tokyo\n",
       "India           Delhi\n",
       "China        Shanghai\n",
       "Brazil      Sao Paulo\n",
       "Mexico    Mexico City\n",
       "Name: city, dtype: object"
      ]
     },
     "execution_count": 14,
     "metadata": {},
     "output_type": "execute_result"
    }
   ],
   "source": [
    "df['city']"
   ]
  },
  {
   "cell_type": "markdown",
   "metadata": {},
   "source": [
    "# Loading data from external sources\n",
    "read_csv, read_excel or read_sql"
   ]
  },
  {
   "cell_type": "code",
   "execution_count": 2,
   "metadata": {},
   "outputs": [],
   "source": [
    "billionaire = pd.read_csv('Billionaire.csv')\n",
    "fertility = pd.read_excel('worldFertility.xlsx',sheet_name='FERTILITY INDICATORS')"
   ]
  },
  {
   "cell_type": "code",
   "execution_count": 3,
   "metadata": {},
   "outputs": [
    {
     "name": "stdout",
     "output_type": "stream",
     "text": [
      "<class 'pandas.core.frame.DataFrame'>\n",
      "RangeIndex: 2755 entries, 0 to 2754\n",
      "Data columns (total 7 columns):\n",
      " #   Column    Non-Null Count  Dtype  \n",
      "---  ------    --------------  -----  \n",
      " 0   Name      2755 non-null   object \n",
      " 1   NetWorth  2755 non-null   object \n",
      " 2   Country   2755 non-null   object \n",
      " 3   Source    2755 non-null   object \n",
      " 4   Rank      2755 non-null   int64  \n",
      " 5   Age       2676 non-null   float64\n",
      " 6   Industry  2755 non-null   object \n",
      "dtypes: float64(1), int64(1), object(5)\n",
      "memory usage: 150.8+ KB\n"
     ]
    }
   ],
   "source": [
    "# billionaire \n",
    "\n",
    "# tail - gives last rows\n",
    "# billionaire.tail(10) \n",
    "\n",
    "# head - # gives first rows\n",
    "# billionaire.head(10) \n",
    "\n",
    "# shape - gives rowsXcolumns\n",
    "# billionaire.shape \n",
    "\n",
    "# Getting column names and indexes(that identify each row, default from 0 to n)\n",
    "# billionaire.columns\n",
    "# billionaire.index \n",
    "\n",
    "billionaire.info() # gives overview of data"
   ]
  },
  {
   "cell_type": "markdown",
   "metadata": {},
   "source": [
    "# Data Types\n",
    "\n",
    "- int8, int16, int32, int64\n",
    "- float32, float64\n",
    "- object\n",
    "- bool\n",
    "- datetime64\n",
    "- string\n",
    "- category\n",
    "\n",
    "## dtypes Conversion\n",
    "astype()\n",
    "to_numeric()/to_datetime()\n",
    "read_*(dtype)"
   ]
  },
  {
   "cell_type": "code",
   "execution_count": null,
   "metadata": {},
   "outputs": [],
   "source": []
  },
  {
   "cell_type": "markdown",
   "metadata": {},
   "source": [
    "# Exporting Data\n"
   ]
  },
  {
   "cell_type": "code",
   "execution_count": 5,
   "metadata": {},
   "outputs": [],
   "source": [
    "fertility.to_csv('Fertility.csv',index=False) # changes made to fertility dataframe do not presist"
   ]
  },
  {
   "cell_type": "code",
   "execution_count": 7,
   "metadata": {},
   "outputs": [],
   "source": [
    "# changes made to fertility dataframe will persist\n",
    "# but dont read from unsafe sources\n",
    "fertility.to_pickle('Fertility.pkl') "
   ]
  },
  {
   "cell_type": "code",
   "execution_count": 8,
   "metadata": {},
   "outputs": [],
   "source": [
    "fertility_pkl = pd.read_pickle('Fertility.pkl')"
   ]
  },
  {
   "cell_type": "code",
   "execution_count": 9,
   "metadata": {},
   "outputs": [
    {
     "name": "stdout",
     "output_type": "stream",
     "text": [
      "<class 'pandas.core.frame.DataFrame'>\n",
      "RangeIndex: 79780 entries, 0 to 79779\n",
      "Data columns (total 17 columns):\n",
      " #   Column       Non-Null Count  Dtype \n",
      "---  ------       --------------  ----- \n",
      " 0   Unnamed: 0   79779 non-null  object\n",
      " 1   Unnamed: 1   79775 non-null  object\n",
      " 2   Unnamed: 2   79775 non-null  object\n",
      " 3   Unnamed: 3   79775 non-null  object\n",
      " 4   Unnamed: 4   79775 non-null  object\n",
      " 5   Unnamed: 5   79775 non-null  object\n",
      " 6   Unnamed: 6   79775 non-null  object\n",
      " 7   Unnamed: 7   79775 non-null  object\n",
      " 8   Unnamed: 8   79775 non-null  object\n",
      " 9   Unnamed: 9   79775 non-null  object\n",
      " 10  Unnamed: 10  79775 non-null  object\n",
      " 11  Unnamed: 11  79775 non-null  object\n",
      " 12  Unnamed: 12  79775 non-null  object\n",
      " 13  Unnamed: 13  79775 non-null  object\n",
      " 14  Unnamed: 14  79775 non-null  object\n",
      " 15  Unnamed: 15  79775 non-null  object\n",
      " 16  Unnamed: 16  79775 non-null  object\n",
      "dtypes: object(17)\n",
      "memory usage: 10.3+ MB\n"
     ]
    }
   ],
   "source": [
    "fertility_pkl.info()"
   ]
  }
 ],
 "metadata": {
  "kernelspec": {
   "display_name": "Python 3.9.12 ('base')",
   "language": "python",
   "name": "python3"
  },
  "language_info": {
   "codemirror_mode": {
    "name": "ipython",
    "version": 3
   },
   "file_extension": ".py",
   "mimetype": "text/x-python",
   "name": "python",
   "nbconvert_exporter": "python",
   "pygments_lexer": "ipython3",
   "version": "3.9.12"
  },
  "orig_nbformat": 4,
  "vscode": {
   "interpreter": {
    "hash": "cc1ddb90b2fd6a34746279b90dfc7558ef87ecc7f747f29d0c07141957ca0f89"
   }
  }
 },
 "nbformat": 4,
 "nbformat_minor": 2
}
