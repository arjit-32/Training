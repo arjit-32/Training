{
 "cells": [
  {
   "attachments": {},
   "cell_type": "markdown",
   "metadata": {},
   "source": [
    "## DataFrame Basics\n"
   ]
  },
  {
   "cell_type": "code",
   "execution_count": 1,
   "metadata": {},
   "outputs": [],
   "source": [
    "import pandas as pd\n",
    "import numpy as np\n",
    "import matplotlib.pyplot as plt"
   ]
  },
  {
   "cell_type": "code",
   "execution_count": 2,
   "metadata": {},
   "outputs": [
    {
     "name": "stdout",
     "output_type": "stream",
     "text": [
      "0    10\n",
      "1    20\n",
      "2    30\n",
      "dtype: int64\n"
     ]
    }
   ],
   "source": [
    "myseries = pd.Series([10,20,30])\n",
    "print(myseries)\n"
   ]
  },
  {
   "cell_type": "code",
   "execution_count": 4,
   "metadata": {},
   "outputs": [
    {
     "name": "stdout",
     "output_type": "stream",
     "text": [
      "True\n"
     ]
    }
   ],
   "source": [
    "print(myseries.is_unique)"
   ]
  },
  {
   "cell_type": "code",
   "execution_count": 5,
   "metadata": {},
   "outputs": [
    {
     "name": "stdout",
     "output_type": "stream",
     "text": [
      "       Name  Age\n",
      "0     Arjit   24\n",
      "1  Midoriya   21\n",
      "2    Taisen   19\n"
     ]
    }
   ],
   "source": [
    "df = pd.DataFrame({\n",
    "    \"Name\": [\"Arjit\",\"Midoriya\",\"Taisen\"],\n",
    "    \"Age\": [24,21,19]\n",
    "})\n",
    "print(df)"
   ]
  },
  {
   "cell_type": "code",
   "execution_count": 6,
   "metadata": {},
   "outputs": [
    {
     "name": "stdout",
     "output_type": "stream",
     "text": [
      "   product_code product_group  stock_qty    cost    price  last_week_sales  \\\n",
      "0          4187           PG2        498  420.76   569.91               13   \n",
      "1          4195           PG2        473  545.64   712.41               16   \n",
      "2          4204           PG2        968  640.42   854.91               22   \n",
      "3          4219           PG2        241  869.69  1034.55               14   \n",
      "4          4718           PG2       1401   12.54    26.59               50   \n",
      "\n",
      "   last_month_sales  \n",
      "0                58  \n",
      "1                58  \n",
      "2                88  \n",
      "3                45  \n",
      "4               285  \n"
     ]
    }
   ],
   "source": [
    "# Reading from a csv file\n",
    "sales = pd.read_csv(\"sales.csv\")\n",
    "print(sales.head())"
   ]
  },
  {
   "cell_type": "code",
   "execution_count": 7,
   "metadata": {},
   "outputs": [
    {
     "name": "stdout",
     "output_type": "stream",
     "text": [
      "   product_code product_group  stock_qty\n",
      "0          4187           PG2        498\n",
      "1          4195           PG2        473\n",
      "2          4204           PG2        968\n",
      "3          4219           PG2        241\n",
      "4          4718           PG2       1401\n",
      "5          5630           PG4        287\n",
      "6          5631           PG4        262\n",
      "7          5634           PG4        205\n",
      "8          2650           PG4        239\n",
      "9          5647           PG4        352\n"
     ]
    }
   ],
   "source": [
    "# Read only particular columns and only 30 rows\n",
    "sales = pd.read_csv(\"sales.csv\", usecols=[\"product_code\",\"product_group\",\"stock_qty\"], nrows= 10)\n",
    "print(sales)"
   ]
  },
  {
   "cell_type": "code",
   "execution_count": 8,
   "metadata": {},
   "outputs": [
    {
     "name": "stdout",
     "output_type": "stream",
     "text": [
      "(10, 3)\n",
      "30\n",
      "10\n",
      "205\n",
      "1401\n"
     ]
    }
   ],
   "source": [
    "# Important methods \n",
    "print(sales.shape) # Return rows*columns\n",
    "print(sales.size) \n",
    "print(len(sales)) # Return rows\n",
    "print(sales[\"stock_qty\"].min()) # Minimum in stock_qty column\n",
    "print(sales[\"stock_qty\"].max()) # Maximum in stock_qty column"
   ]
  },
  {
   "cell_type": "code",
   "execution_count": 9,
   "metadata": {},
   "outputs": [
    {
     "name": "stdout",
     "output_type": "stream",
     "text": [
      "product_code      int64\n",
      "product_group    object\n",
      "stock_qty         int64\n",
      "dtype: object\n"
     ]
    }
   ],
   "source": [
    "print(sales.dtypes)"
   ]
  },
  {
   "cell_type": "code",
   "execution_count": 10,
   "metadata": {},
   "outputs": [
    {
     "name": "stdout",
     "output_type": "stream",
     "text": [
      "Index(['product_code', 'product_group', 'stock_qty'], dtype='object')\n",
      "['product_code', 'product_group', 'stock_qty']\n"
     ]
    }
   ],
   "source": [
    "print(sales.columns)\n",
    "print(list(sales.columns))"
   ]
  },
  {
   "cell_type": "code",
   "execution_count": 11,
   "metadata": {},
   "outputs": [
    {
     "data": {
      "text/plain": [
       "product_code       int64\n",
       "product_group     object\n",
       "stock_qty        float64\n",
       "dtype: object"
      ]
     },
     "execution_count": 11,
     "metadata": {},
     "output_type": "execute_result"
    }
   ],
   "source": [
    "# Changing type of a column\n",
    "sales['stock_qty'] = sales['stock_qty'].astype(\"float\")\n",
    "sales.dtypes\n",
    "\n",
    "# Changing data type of multiple columns\n",
    "# sales = sales.astype({\n",
    "#    \"stock_qty\": \"float\",\n",
    "#    \"product_code\": \"float\"\n",
    "# })"
   ]
  },
  {
   "cell_type": "code",
   "execution_count": 12,
   "metadata": {},
   "outputs": [
    {
     "name": "stdout",
     "output_type": "stream",
     "text": [
      "6\n",
      "['PG2' 'PG4' 'PG6' 'PG5' 'PG3' 'PG1']\n",
      "PG4    349\n",
      "PG5    255\n",
      "PG6    243\n",
      "PG2     75\n",
      "PG3     39\n",
      "PG1     39\n",
      "Name: product_group, dtype: int64\n"
     ]
    }
   ],
   "source": [
    "# Finding distinct values in a column\n",
    "sales = pd.read_csv(\"sales.csv\")\n",
    "print(sales[\"product_group\"].nunique()) # Returns number of unique values in this column\n",
    "print(sales[\"product_group\"].unique()) # Shows all the unique values that exist in this column\n",
    "print(sales[\"product_group\"].value_counts()) # Shows all the unique values along with their frequency"
   ]
  },
  {
   "attachments": {},
   "cell_type": "markdown",
   "metadata": {},
   "source": [
    "## Filtering"
   ]
  },
  {
   "cell_type": "code",
   "execution_count": 13,
   "metadata": {},
   "outputs": [
    {
     "name": "stdout",
     "output_type": "stream",
     "text": [
      "   product_code product_group  stock_qty    cost    price  last_week_sales  \\\n",
      "0          4187           PG2        498  420.76   569.91               13   \n",
      "1          4195           PG2        473  545.64   712.41               16   \n",
      "2          4204           PG2        968  640.42   854.91               22   \n",
      "3          4219           PG2        241  869.69  1034.55               14   \n",
      "4          4718           PG2       1401   12.54    26.59               50   \n",
      "\n",
      "   last_month_sales  \n",
      "0                58  \n",
      "1                58  \n",
      "2                88  \n",
      "3                45  \n",
      "4               285  \n"
     ]
    }
   ],
   "source": [
    "# loc uses row and column labels.\n",
    "# iloc uses row and column indexes.\n",
    "sales = pd.read_csv(\"sales.csv\")\n",
    "print(sales.head())"
   ]
  },
  {
   "cell_type": "code",
   "execution_count": 14,
   "metadata": {},
   "outputs": [
    {
     "name": "stdout",
     "output_type": "stream",
     "text": [
      "   product_code product_group\n",
      "0          4187           PG2\n",
      "1          4195           PG2\n",
      "2          4204           PG2\n",
      "3          4219           PG2\n",
      "4          4718           PG2\n"
     ]
    }
   ],
   "source": [
    "print(sales.loc[:4, [\"product_code\",\"product_group\"]]) # Select first 5 rows and 2 columns"
   ]
  },
  {
   "cell_type": "code",
   "execution_count": 15,
   "metadata": {},
   "outputs": [
    {
     "name": "stdout",
     "output_type": "stream",
     "text": [
      "   product_code product_group\n",
      "0          4187           PG2\n",
      "1          4195           PG2\n",
      "2          4204           PG2\n",
      "3          4219           PG2\n",
      "4          4718           PG2\n"
     ]
    }
   ],
   "source": [
    "print(sales.iloc[:5, [0,1]]) # Select first 5 rows and first 2 columns"
   ]
  },
  {
   "cell_type": "code",
   "execution_count": 16,
   "metadata": {},
   "outputs": [
    {
     "name": "stdout",
     "output_type": "stream",
     "text": [
      "   product_code    price\n",
      "0          4187   569.91\n",
      "1          4195   712.41\n",
      "2          4204   854.91\n",
      "3          4219  1034.55\n",
      "4          4718    26.59\n"
     ]
    }
   ],
   "source": [
    "# Selecting subset of columns\n",
    "selected_columns = [\"product_code\",\"price\"]\n",
    "print(sales[selected_columns].head())\n",
    "# print(sales[[\"product_code\",\"price\"]].head())"
   ]
  },
  {
   "cell_type": "code",
   "execution_count": 17,
   "metadata": {},
   "outputs": [
    {
     "name": "stdout",
     "output_type": "stream",
     "text": [
      "   product_code product_group  stock_qty    cost    price  last_week_sales  \\\n",
      "0          4187           PG2        498  420.76   569.91               13   \n",
      "1          4195           PG2        473  545.64   712.41               16   \n",
      "2          4204           PG2        968  640.42   854.91               22   \n",
      "3          4219           PG2        241  869.69  1034.55               14   \n",
      "4          4718           PG2       1401   12.54    26.59               50   \n",
      "\n",
      "   last_month_sales  \n",
      "0                58  \n",
      "1                58  \n",
      "2                88  \n",
      "3                45  \n",
      "4               285  \n"
     ]
    }
   ],
   "source": [
    "# Filtering based on a condition\n",
    "sales_filtered = sales[sales[\"product_group\"] == \"PG2\"]\n",
    "# sales_filtered = sales[sales.product_group == \"PG2\"]\n",
    "print(sales_filtered.head())"
   ]
  },
  {
   "cell_type": "code",
   "execution_count": 18,
   "metadata": {},
   "outputs": [
    {
     "name": "stdout",
     "output_type": "stream",
     "text": [
      "   product_code product_group  stock_qty    cost    price  last_week_sales  \\\n",
      "0          4187           PG2        498  420.76   569.91               13   \n",
      "1          4195           PG2        473  545.64   712.41               16   \n",
      "2          4204           PG2        968  640.42   854.91               22   \n",
      "3          4219           PG2        241  869.69  1034.55               14   \n",
      "8          2650           PG4        239   59.40   111.06               15   \n",
      "\n",
      "   last_month_sales  \n",
      "0                58  \n",
      "1                58  \n",
      "2                88  \n",
      "3                45  \n",
      "8                38  \n"
     ]
    }
   ],
   "source": [
    "print(sales[sales[\"price\"] > 100].head())"
   ]
  },
  {
   "cell_type": "code",
   "execution_count": 19,
   "metadata": {},
   "outputs": [
    {
     "name": "stdout",
     "output_type": "stream",
     "text": [
      "       price  stock_qty\n",
      "3    1034.55        241\n",
      "8     111.06        239\n",
      "165   208.91        244\n",
      "186   427.41        369\n",
      "199   104.49        144\n"
     ]
    }
   ],
   "source": [
    "# Filtering based on Multiple conditions \n",
    "sales_filtered = sales[(sales[\"price\"] > 100) & (sales[\"stock_qty\"] < 400) ] # & is AND, while | is OR\n",
    "print(sales_filtered[[\"price\",\"stock_qty\"]].head())"
   ]
  },
  {
   "cell_type": "code",
   "execution_count": 20,
   "metadata": {},
   "outputs": [],
   "source": [
    "# isin method \n",
    "sales_filtered = sales[sales[\"product_group\"].isin([\"PG1\",\"PG2\",\"PG3\"])]"
   ]
  },
  {
   "cell_type": "code",
   "execution_count": 21,
   "metadata": {},
   "outputs": [],
   "source": [
    "# Query Function : Allows textual queries\n",
    "sales_filtered = sales.query(\"price > 100 and stock_qty < 400\")"
   ]
  },
  {
   "attachments": {},
   "cell_type": "markdown",
   "metadata": {},
   "source": [
    "## String Manipulation"
   ]
  },
  {
   "cell_type": "code",
   "execution_count": 22,
   "metadata": {},
   "outputs": [
    {
     "name": "stdout",
     "output_type": "stream",
     "text": [
      "               name             city date_of_birth  start_date   salary  \\\n",
      "0          John Doe      Houston, TX    1998-11-04  2018-08-11  $65,000   \n",
      "1          Jane Doe     San Jose, CA    1995-08-05  2017-08-24  $70,000   \n",
      "2        Matt smith       Dallas, TX    1996-11-25  2020-04-16  $58,500   \n",
      "3     Ashley Harris        Miami, FL    1995-01-08  2021-02-11  $49,500   \n",
      "4  Jonathan targett  Santa Clara, CA    1998-08-14  2020-09-01  $62,000   \n",
      "\n",
      "        department  \n",
      "0       Accounting  \n",
      "1    Field Quality  \n",
      "2  human resources  \n",
      "3       accounting  \n",
      "4    field quality  \n"
     ]
    }
   ],
   "source": [
    "staff = pd.read_csv(\"staff.csv\")\n",
    "print(staff.head(5))"
   ]
  },
  {
   "cell_type": "code",
   "execution_count": 23,
   "metadata": {},
   "outputs": [
    {
     "name": "stdout",
     "output_type": "stream",
     "text": [
      "0    John\n",
      "1    Jane\n",
      "2    Matt\n",
      "3    Ashl\n",
      "4    Jona\n",
      "5    Hale\n",
      "Name: name, dtype: object\n"
     ]
    }
   ],
   "source": [
    "# str[start : end : step size]\n",
    "print(staff[\"name\"].str[0:4])"
   ]
  },
  {
   "cell_type": "code",
   "execution_count": 24,
   "metadata": {},
   "outputs": [
    {
     "name": "stdout",
     "output_type": "stream",
     "text": [
      "0            [John, Doe]\n",
      "1            [Jane, Doe]\n",
      "2          [Matt, smith]\n",
      "3       [Ashley, Harris]\n",
      "4    [Jonathan, targett]\n",
      "5           [Hale, Cole]\n",
      "Name: name, dtype: object\n"
     ]
    }
   ],
   "source": [
    "# Splitting strings\n",
    "print(staff[\"name\"].str.split(\" \"))"
   ]
  },
  {
   "cell_type": "code",
   "execution_count": 25,
   "metadata": {},
   "outputs": [
    {
     "name": "stdout",
     "output_type": "stream",
     "text": [
      "               name last_name\n",
      "0          John Doe       Doe\n",
      "1          Jane Doe       Doe\n",
      "2        Matt smith     smith\n",
      "3     Ashley Harris    Harris\n",
      "4  Jonathan targett   targett\n",
      "5         Hale Cole      Cole\n"
     ]
    }
   ],
   "source": [
    "staff[\"last_name\"] = staff[\"name\"].str.split(\" \", expand=True)[1] # expand parameter creates seperated column after splitting\n",
    "print(staff[[\"name\",\"last_name\"]])"
   ]
  },
  {
   "cell_type": "code",
   "execution_count": 26,
   "metadata": {},
   "outputs": [
    {
     "name": "stdout",
     "output_type": "stream",
     "text": [
      "0               John Doe - Accounting\n",
      "1            Jane Doe - Field Quality\n",
      "2        Matt smith - human resources\n",
      "3          Ashley Harris - accounting\n",
      "4    Jonathan targett - field quality\n",
      "5             Hale Cole - engineering\n",
      "dtype: object\n"
     ]
    }
   ],
   "source": [
    "# Combining strings\n",
    "print(staff[\"name\"] + \" - \" + staff[\"department\"])"
   ]
  },
  {
   "cell_type": "code",
   "execution_count": 27,
   "metadata": {},
   "outputs": [
    {
     "name": "stdout",
     "output_type": "stream",
     "text": [
      "0            john doe\n",
      "1            jane doe\n",
      "2          matt smith\n",
      "3       ashley harris\n",
      "4    jonathan targett\n",
      "5           hale cole\n",
      "Name: name, dtype: object\n",
      "0            JOHN DOE\n",
      "1            JANE DOE\n",
      "2          MATT SMITH\n",
      "3       ASHLEY HARRIS\n",
      "4    JONATHAN TARGETT\n",
      "5           HALE COLE\n",
      "Name: name, dtype: object\n",
      "0            John doe\n",
      "1            Jane doe\n",
      "2          Matt smith\n",
      "3       Ashley harris\n",
      "4    Jonathan targett\n",
      "5           Hale cole\n",
      "Name: name, dtype: object\n"
     ]
    }
   ],
   "source": [
    "# Uppercase and lowercase\n",
    "print(staff[\"name\"].str.lower())\n",
    "print(staff[\"name\"].str.upper())\n",
    "print(staff[\"name\"].str.capitalize())"
   ]
  },
  {
   "cell_type": "code",
   "execution_count": 28,
   "metadata": {},
   "outputs": [
    {
     "name": "stdout",
     "output_type": "stream",
     "text": [
      "0        Houston- TX\n",
      "1       San Jose- CA\n",
      "2         Dallas- TX\n",
      "3          Miami- FL\n",
      "4    Santa Clara- CA\n",
      "5        Atlanta- GA\n",
      "Name: city, dtype: object\n"
     ]
    }
   ],
   "source": [
    "# Replacing characters in a String\n",
    "print(staff[\"city\"].str.replace(\",\",\"-\"))"
   ]
  },
  {
   "cell_type": "code",
   "execution_count": 29,
   "metadata": {},
   "outputs": [
    {
     "name": "stdout",
     "output_type": "stream",
     "text": [
      "0     tx\n",
      "1     ca\n",
      "2     tx\n",
      "3     fl\n",
      "4     ca\n",
      "5     ga\n",
      "Name: 1, dtype: object\n"
     ]
    }
   ],
   "source": [
    "# Chained operations\n",
    "print(staff[\"city\"].str.split(\",\", expand=True)[1].str.lower()) # From city column, take out state and lower case it"
   ]
  },
  {
   "cell_type": "code",
   "execution_count": 30,
   "metadata": {},
   "outputs": [
    {
     "data": {
      "text/plain": [
       "0         accounting\n",
       "1            quality\n",
       "2    human resources\n",
       "3         accounting\n",
       "4            quality\n",
       "5        engineering\n",
       "Name: department, dtype: object"
      ]
     },
     "execution_count": 30,
     "metadata": {},
     "output_type": "execute_result"
    }
   ],
   "source": [
    "staff[\"department\"].str.lower().replace(\"field quality\",\"quality\") # In department replace field quality values as quality"
   ]
  },
  {
   "cell_type": "code",
   "execution_count": 31,
   "metadata": {},
   "outputs": [
    {
     "name": "stdout",
     "output_type": "stream",
     "text": [
      "0    65000\n",
      "1    70000\n",
      "2    58500\n",
      "3    49500\n",
      "4    62000\n",
      "5    54500\n",
      "Name: salary_cleaned, dtype: int32\n"
     ]
    }
   ],
   "source": [
    "staff[\"salary_cleaned\"] = staff[\"salary\"].str[1:].str.replace(\",\",\"\") # Remove $ and comma from salary\n",
    "staff[\"salary_cleaned\"] = staff[\"salary_cleaned\"].astype(\"int\") # convert salary_cleaned to int\n",
    "print(staff[\"salary_cleaned\"])"
   ]
  },
  {
   "attachments": {},
   "cell_type": "markdown",
   "metadata": {},
   "source": [
    "## Date Manipulation"
   ]
  },
  {
   "cell_type": "code",
   "execution_count": 32,
   "metadata": {},
   "outputs": [],
   "source": [
    "# datetime64[ns] and timedelta[ns] are commonly used datatypes\n",
    "date1 = pd.to_datetime(\"2021-10-10\")\n",
    "date2 = pd.to_datetime(\"2021-10-02\")"
   ]
  },
  {
   "cell_type": "code",
   "execution_count": 33,
   "metadata": {},
   "outputs": [
    {
     "name": "stdout",
     "output_type": "stream",
     "text": [
      "8 days 00:00:00\n"
     ]
    }
   ],
   "source": [
    "diff = date1 - date2 # differemce is calculated in terms of days. Timedelta objects have days attribute\n",
    "print(diff)"
   ]
  },
  {
   "cell_type": "code",
   "execution_count": 34,
   "metadata": {},
   "outputs": [
    {
     "name": "stdout",
     "output_type": "stream",
     "text": [
      "The year part is 2021\n",
      "The month part is 10\n",
      "The week number part is 40\n",
      "The day part is 10\n",
      "The hour part is 14\n",
      "The minute part is 30\n",
      "The second part is 0\n",
      "The date part is 2021-10-10\n",
      "The day of week is 6\n",
      "The name of the month is October\n",
      "The name of the day is Sunday\n"
     ]
    }
   ],
   "source": [
    "mydate = pd.to_datetime(\"2021-10-10 14:30:00\")\n",
    "\n",
    "print(f\"The year part is {mydate.year}\")\n",
    "print(f\"The month part is {mydate.month}\")\n",
    "print(f\"The week number part is {mydate.week}\")\n",
    "print(f\"The day part is {mydate.day}\")\n",
    "print(f\"The hour part is {mydate.hour}\")\n",
    "print(f\"The minute part is {mydate.minute}\")\n",
    "print(f\"The second part is {mydate.second}\")\n",
    "print(f\"The date part is {mydate.date()}\")\n",
    "print(f\"The day of week is {mydate.weekday()}\")\n",
    "print(f\"The name of the month is {mydate.month_name()}\")\n",
    "print(f\"The name of the day is {mydate.day_name()}\")\n"
   ]
  },
  {
   "cell_type": "code",
   "execution_count": 35,
   "metadata": {},
   "outputs": [],
   "source": [
    "# change data type of date columns\n",
    "staff = staff.astype({\n",
    "    \"date_of_birth\": \"datetime64[ns]\",\n",
    "    \"start_date\": \"datetime64[ns]\",\n",
    "})"
   ]
  },
  {
   "cell_type": "code",
   "execution_count": 36,
   "metadata": {},
   "outputs": [
    {
     "name": "stdout",
     "output_type": "stream",
     "text": [
      "  start_date  start_month\n",
      "0 2018-08-11            8\n",
      "1 2017-08-24            8\n",
      "2 2020-04-16            4\n",
      "3 2021-02-11            2\n",
      "4 2020-09-01            9\n",
      "5 2021-10-20           10\n"
     ]
    }
   ],
   "source": [
    "# The dt accessor\n",
    "staff[\"start_month\"] = staff[\"start_date\"].dt.month\n",
    "print(staff[[\"start_date\",\"start_month\"]])"
   ]
  },
  {
   "cell_type": "code",
   "execution_count": 37,
   "metadata": {},
   "outputs": [
    {
     "name": "stdout",
     "output_type": "stream",
     "text": [
      "   year  week  day\n",
      "0  2018    32    6\n",
      "1  2017    34    4\n",
      "2  2020    16    4\n",
      "3  2021     6    4\n",
      "4  2020    36    2\n",
      "5  2021    42    3\n"
     ]
    }
   ],
   "source": [
    "print(staff[\"start_date\"].dt.isocalendar())"
   ]
  },
  {
   "cell_type": "code",
   "execution_count": 38,
   "metadata": {},
   "outputs": [
    {
     "name": "stdout",
     "output_type": "stream",
     "text": [
      "  start_date raise_date\n",
      "0 2018-08-11 2019-08-11\n",
      "1 2017-08-24 2018-08-24\n",
      "2 2020-04-16 2021-04-16\n",
      "3 2021-02-11 2022-02-11\n",
      "4 2020-09-01 2021-09-01\n",
      "5 2021-10-20 2022-10-20\n"
     ]
    }
   ],
   "source": [
    "staff[\"raise_date\"] = staff[\"start_date\"] + pd.DateOffset(years=1) # add a year\n",
    "# staff[\"raise_date\"] = staff[\"start_date\"] + pd.DateOffset(month=6)\n",
    "print(staff[[\"start_date\",\"raise_date\"]])"
   ]
  },
  {
   "cell_type": "code",
   "execution_count": 39,
   "metadata": {},
   "outputs": [
    {
     "name": "stdout",
     "output_type": "stream",
     "text": [
      "0   2018-11-03\n",
      "1   2017-11-16\n",
      "2   2020-07-09\n",
      "3   2021-05-06\n",
      "4   2020-11-24\n",
      "5   2022-01-12\n",
      "Name: start_date, dtype: datetime64[ns]\n"
     ]
    }
   ],
   "source": [
    "print(staff[\"start_date\"] + pd.Timedelta(value=12, unit=\"W\")) # add 12 weeks"
   ]
  },
  {
   "cell_type": "code",
   "execution_count": 40,
   "metadata": {},
   "outputs": [
    {
     "data": {
      "text/plain": [
       "0    19.780822\n",
       "1    22.068493\n",
       "2    23.405479\n",
       "3    26.112329\n",
       "4    22.065753\n",
       "5    21.002740\n",
       "dtype: float64"
      ]
     },
     "execution_count": 40,
     "metadata": {},
     "output_type": "execute_result"
    }
   ],
   "source": [
    "(staff[\"start_date\"] - staff[\"date_of_birth\"]).dt.days / 365 # finding age when they joined company"
   ]
  },
  {
   "attachments": {},
   "cell_type": "markdown",
   "metadata": {},
   "source": [
    "## Missing values\n",
    "- Standard missing value representation in a DataFrame is NaN\n",
    "- Not compatible with integer, so whenever there is NaN value in integer column, data type of whole column is upcasted to float, Solution to this is use ```pd.Int64Dtype()```"
   ]
  },
  {
   "cell_type": "code",
   "execution_count": 41,
   "metadata": {},
   "outputs": [
    {
     "name": "stdout",
     "output_type": "stream",
     "text": [
      "Before(Int upcasted to float) - \n",
      "      A    B    C\n",
      "0  1.0  2.4  foo\n",
      "1  2.0  6.2  zoo\n",
      "2  3.0  5.1  bar\n",
      "3  NaN  NaN  NaN\n",
      "After(Back to int) - \n",
      "       A    B    C\n",
      "0     1  2.4  foo\n",
      "1     2  6.2  zoo\n",
      "2     3  5.1  bar\n",
      "3  <NA>  NaN  NaN\n"
     ]
    }
   ],
   "source": [
    "df = pd.DataFrame({\n",
    "    \"A\": [1, 2, 3, np.nan],\n",
    "    \"B\": [2.4, 6.2, 5.1, np.nan],\n",
    "    \"C\": [\"foo\",\"zoo\",\"bar\", np.nan]\n",
    "})\n",
    "\n",
    "print(\"Before(Int upcasted to float) - \\n\",df)\n",
    "df[\"A\"] = df[\"A\"].astype(pd.Int64Dtype())\n",
    "print(\"After(Back to int) - \\n\",df)"
   ]
  },
  {
   "cell_type": "code",
   "execution_count": 42,
   "metadata": {},
   "outputs": [
    {
     "name": "stdout",
     "output_type": "stream",
     "text": [
      "Grid of True & false \n",
      "        A      B      C\n",
      "0  False  False  False\n",
      "1  False  False  False\n",
      "2  False  False  False\n",
      "3   True   True   True\n"
     ]
    }
   ],
   "source": [
    "# isna and notna functions\n",
    "print(\"Grid of True & false \\n\", df.isna())\n"
   ]
  },
  {
   "cell_type": "code",
   "execution_count": 43,
   "metadata": {},
   "outputs": [
    {
     "name": "stdout",
     "output_type": "stream",
     "text": [
      "A    1\n",
      "B    1\n",
      "C    1\n",
      "dtype: int64\n"
     ]
    }
   ],
   "source": [
    "print(df.isna().sum()) # Number of missing Values in each column"
   ]
  },
  {
   "cell_type": "code",
   "execution_count": 44,
   "metadata": {},
   "outputs": [
    {
     "name": "stdout",
     "output_type": "stream",
     "text": [
      "3\n"
     ]
    }
   ],
   "source": [
    "print(df.isna().sum().sum()) # Total number of missing values in the dataframe"
   ]
  },
  {
   "cell_type": "code",
   "execution_count": 45,
   "metadata": {},
   "outputs": [
    {
     "name": "stdout",
     "output_type": "stream",
     "text": [
      "Before - \n",
      "      A    B    C     D  E\n",
      "0  1.0  2.4  NaN  11.5  1\n",
      "1  2.0  NaN  foo   NaN  2\n",
      "2  3.0  5.1  zoo   6.2  3\n",
      "3  NaN  NaN  bar  21.1  4\n",
      "4  7.0  2.6  NaN   8.7  5\n",
      "\n",
      "After dropping rows - \n",
      "\n",
      "      A    B    C    D  E\n",
      "2  3.0  5.1  zoo  6.2  3\n",
      "\n",
      "After dropping columns - \n",
      "\n",
      "    E\n",
      "0  1\n",
      "1  2\n",
      "2  3\n",
      "3  4\n",
      "4  5\n",
      "\n",
      "After dropping rows with less than 4 non-missing columns - \n",
      "\n",
      "      A    B    C     D  E\n",
      "0  1.0  2.4  NaN  11.5  1\n",
      "2  3.0  5.1  zoo   6.2  3\n",
      "4  7.0  2.6  NaN   8.7  5\n"
     ]
    }
   ],
   "source": [
    "# Dropping rows and columns \n",
    "df = pd.DataFrame({\n",
    "    \"A\": [1, 2, 3, np.nan, 7],\n",
    "    \"B\": [2.4, np.nan, 5.1, np.nan, 2.6],\n",
    "    \"C\": [np.nan, \"foo\",\"zoo\",\"bar\", np.nan],\n",
    "    \"D\": [11.5, np.nan, 6.2, 21.1, 8.7],\n",
    "    \"E\": [1, 2, 3, 4, 5]\n",
    "})\n",
    "\n",
    "print(\"Before - \\n\", df)\n",
    "\n",
    "# Drop rows that have at least one missing value\n",
    "print(\"\\nAfter dropping rows - \\n\\n\",df.dropna(axis=0, how=\"any\")) # axis=0 means drop rows, any means even if one column is NaN\n",
    "\n",
    "# Drop columns that have at least one missing value\n",
    "print(\"\\nAfter dropping columns - \\n\\n\",df.dropna(axis=1, how=\"any\")) # axis=1 means drop columns, any means even if one column is NaN\n",
    "\n",
    "# Drop rows that have less than 4 non missing columns(i.e = 5 column me se 4 thik hai unko rehnede baakio ko delte)\n",
    "print(\"\\nAfter dropping rows with less than 4 non-missing columns - \\n\\n\",df.dropna(thresh=4)) # axis=1 means drop columns, any means even if one column is NaN"
   ]
  },
  {
   "cell_type": "code",
   "execution_count": 46,
   "metadata": {},
   "outputs": [
    {
     "name": "stdout",
     "output_type": "stream",
     "text": [
      "\n",
      "Before inplace - \n",
      "      A    B    C     D  E\n",
      "0  1.0  2.4  NaN  11.5  1\n",
      "1  2.0  NaN  foo   NaN  2\n",
      "2  3.0  5.1  zoo   6.2  3\n",
      "3  NaN  NaN  bar  21.1  4\n",
      "4  7.0  2.6  NaN   8.7  5\n",
      "\n",
      "After inplace - \n",
      "      A    B    C     D  E\n",
      "0  1.0  2.4  NaN  11.5  1\n",
      "2  3.0  5.1  zoo   6.2  3\n",
      "4  7.0  2.6  NaN   8.7  5\n"
     ]
    }
   ],
   "source": [
    "\n",
    "# inplace inorder to save the changes in df\n",
    "df.dropna(thresh=4)\n",
    "print(\"\\nBefore inplace - \\n\",df)\n",
    "df.dropna(thresh=4, inplace=True)\n",
    "print(\"\\nAfter inplace - \\n\",df)"
   ]
  },
  {
   "cell_type": "code",
   "execution_count": 47,
   "metadata": {},
   "outputs": [
    {
     "name": "stdout",
     "output_type": "stream",
     "text": [
      "\n",
      "Before fillna - \n",
      " 0    1.0\n",
      "1    2.0\n",
      "2    3.0\n",
      "3    NaN\n",
      "4    7.0\n",
      "Name: A, dtype: float64\n",
      "\n",
      "A column after fillna - \n",
      "\n",
      "0    1.00\n",
      "1    2.00\n",
      "2    3.00\n",
      "3    3.25\n",
      "4    7.00\n",
      "Name: A, dtype: float64\n"
     ]
    }
   ],
   "source": [
    "# Replacing Missing Values\n",
    "df = pd.DataFrame({\n",
    "    \"A\": [1, 2, 3, np.nan, 7],\n",
    "    \"B\": [2.4, np.nan, 5.1, np.nan, 2.6],\n",
    "    \"C\": [np.nan, \"foo\",\"zoo\",\"bar\", np.nan],\n",
    "    \"D\": [11.5, np.nan, 6.2, 21.1, 8.7],\n",
    "    \"E\": [1, 2, 3, 4, 5]\n",
    "})\n",
    "print(\"\\nBefore fillna - \\n\",df[\"A\"])\n",
    "print(\"\\nA column after fillna - \\n\")\n",
    "print(df[\"A\"].fillna(value = df[\"A\"].mean()))\n",
    "# print(df[\"A\"].fillna(method=\"bfill\")) # Replace missing values with what comes after it\n",
    "# print(df[\"A\"].fillna(method=\"ffill\")) # Replace missing values with what comes before it"
   ]
  },
  {
   "attachments": {},
   "cell_type": "markdown",
   "metadata": {},
   "source": [
    "## Data Analyis"
   ]
  },
  {
   "cell_type": "code",
   "execution_count": 48,
   "metadata": {},
   "outputs": [
    {
     "name": "stdout",
     "output_type": "stream",
     "text": [
      "               product_code  price  sales_quantity\n",
      "product_group                                     \n",
      "clothing        1007.000000  10.99        5.000000\n",
      "dairy           1003.000000   4.99        2.000000\n",
      "electronics     1004.666667  72.33       15.166667\n",
      "fruit           1002.000000   1.99       10.000000\n",
      "software        1006.000000   0.99       20.000000\n",
      "vegetable       1001.000000   2.99       33.750000\n",
      "\n",
      "\n",
      "               price\n",
      "product_group       \n",
      "clothing       10.99\n",
      "dairy           4.99\n",
      "electronics    72.33\n",
      "fruit           1.99\n",
      "software        0.99\n",
      "vegetable       2.99\n"
     ]
    }
   ],
   "source": [
    "grocery = pd.read_csv(\"grocery.csv\")\n",
    "\n",
    "print(grocery.groupby(\"product_group\").mean()) # Pandas calculates the mean value for all the numerical columns\n",
    "print(\"\\n\")\n",
    "print(grocery[[\"product_group\",\"price\"]].groupby(\"product_group\").mean())"
   ]
  },
  {
   "cell_type": "code",
   "execution_count": 49,
   "metadata": {},
   "outputs": [
    {
     "name": "stdout",
     "output_type": "stream",
     "text": [
      "               avg_price\n",
      "product_group           \n",
      "clothing           10.99\n",
      "dairy               4.99\n",
      "electronics        72.33\n",
      "fruit               1.99\n",
      "software            0.99\n",
      "vegetable           2.99\n"
     ]
    }
   ],
   "source": [
    "# named aggregations\n",
    "print(\n",
    "    grocery.groupby(\"product_group\").agg(\n",
    "    avg_price=(\"price\",\"mean\")\n",
    "    )\n",
    ")"
   ]
  },
  {
   "cell_type": "code",
   "execution_count": 50,
   "metadata": {},
   "outputs": [
    {
     "name": "stdout",
     "output_type": "stream",
     "text": [
      "               avg_price  total_sales\n",
      "product_group                        \n",
      "clothing           10.99            5\n",
      "dairy               4.99            6\n",
      "electronics        72.33           91\n",
      "fruit               1.99           30\n",
      "software            0.99           60\n",
      "vegetable           2.99          135\n"
     ]
    }
   ],
   "source": [
    "# multiple named aggregations\n",
    "print(\n",
    "  grocery.groupby(\"product_group\").agg(\n",
    "    avg_price = (\"price\",\"mean\"),\n",
    "    total_sales = (\"sales_quantity\", \"sum\")\n",
    "  )\n",
    ")"
   ]
  },
  {
   "cell_type": "code",
   "execution_count": 51,
   "metadata": {},
   "outputs": [
    {
     "name": "stdout",
     "output_type": "stream",
     "text": [
      "                     avg_price  total_sales\n",
      "product_description                        \n",
      "tomato                    2.99          135\n",
      "headphone                12.99           72\n",
      "antivirus                 0.99           60\n",
      "banana                    1.99           30\n",
      "laptop                  102.00           19\n",
      "milk                      4.99            6\n",
      "Jeans                    10.99            5\n"
     ]
    }
   ],
   "source": [
    "# sort_values function\n",
    "print(\n",
    "  grocery.groupby(\"product_description\").agg(\n",
    "    avg_price = (\"price\",\"mean\"),\n",
    "    total_sales = (\"sales_quantity\", \"sum\")\n",
    "  ).sort_values(\n",
    "    by=\"total_sales\",\n",
    "    ascending=False\n",
    "  )\n",
    ")"
   ]
  },
  {
   "cell_type": "code",
   "execution_count": 52,
   "metadata": {},
   "outputs": [
    {
     "name": "stdout",
     "output_type": "stream",
     "text": [
      "year            2021  2022  2023\n",
      "product_group                   \n",
      "clothing         NaN   NaN   5.0\n",
      "dairy            NaN   6.0   NaN\n",
      "electronics      NaN  91.0   NaN\n",
      "fruit           30.0   NaN   NaN\n",
      "software         NaN   NaN  60.0\n",
      "vegetable      135.0   NaN   NaN\n"
     ]
    },
    {
     "data": {
      "text/plain": [
       "'\\ndata: The name of the DataFrame\\nvalues: The column that contains the values to be aggregated in the pivot table\\nindex: The rows of the pivot table\\ncolumns: The columns of the pivot table\\naggfunc: The function used to aggregate the values\\n'"
      ]
     },
     "execution_count": 52,
     "metadata": {},
     "output_type": "execute_result"
    }
   ],
   "source": [
    "# Pivot Table - \n",
    "# pivot table to see the yearly total sales quantities of the product groups\n",
    "grocery[\"sales_date\"] = grocery[\"sales_date\"].astype(\"datetime64[ns]\")\n",
    "grocery[\"year\"] = grocery[\"sales_date\"].dt.year \n",
    "print(\n",
    "    pd.pivot_table(\n",
    "    data=grocery,\n",
    "    values=\"sales_quantity\",\n",
    "    index=\"product_group\",\n",
    "    columns=\"year\",\n",
    "    aggfunc=\"sum\"\n",
    "    )\n",
    ")\n",
    "'''\n",
    "data: The name of the DataFrame\n",
    "values: The column that contains the values to be aggregated in the pivot table\n",
    "index: The rows of the pivot table\n",
    "columns: The columns of the pivot table\n",
    "aggfunc: The function used to aggregate the values\n",
    "'''"
   ]
  },
  {
   "cell_type": "code",
   "execution_count": 53,
   "metadata": {},
   "outputs": [
    {
     "name": "stdout",
     "output_type": "stream",
     "text": [
      "year            2021  2022  2023  Total\n",
      "product_group                          \n",
      "clothing         NaN   NaN   5.0      5\n",
      "dairy            NaN   6.0   NaN      6\n",
      "electronics      NaN  91.0   NaN     91\n",
      "fruit           30.0   NaN   NaN     30\n",
      "software         NaN   NaN  60.0     60\n",
      "vegetable      135.0   NaN   NaN    135\n",
      "Total          165.0  97.0  65.0    327\n"
     ]
    }
   ],
   "source": [
    "# Show rows and columns total in pivot table\n",
    "print(\n",
    "    pd.pivot_table(\n",
    "    data=grocery,\n",
    "    values=\"sales_quantity\",\n",
    "    index=\"product_group\",\n",
    "    columns=\"year\",\n",
    "    aggfunc=\"sum\",\n",
    "    margins=True,\n",
    "    margins_name= \"Total\"\n",
    "    )\n",
    ")"
   ]
  },
  {
   "cell_type": "code",
   "execution_count": 54,
   "metadata": {},
   "outputs": [
    {
     "name": "stdout",
     "output_type": "stream",
     "text": [
      "0      (2.5, 5.0]\n",
      "1    (-0.01, 2.5]\n",
      "2    (-0.01, 2.5]\n",
      "3     (7.5, 10.0]\n",
      "4      (2.5, 5.0]\n",
      "5     (7.5, 10.0]\n",
      "6      (5.0, 7.5]\n",
      "dtype: category\n",
      "Categories (4, interval[float64, right]): [(-0.01, 2.5] < (2.5, 5.0] < (5.0, 7.5] < (7.5, 10.0]]\n"
     ]
    }
   ],
   "source": [
    "# cut and qcut functions - convert columns with continuous values to categorical columns\n",
    "# cut function - divides value range into bins of equal size\n",
    "A = pd.Series([5, 0, 2, 8, 4, 10, 7])\n",
    "A_binned = pd.cut(A, bins=4)\n",
    "print(A_binned)"
   ]
  },
  {
   "cell_type": "code",
   "execution_count": 55,
   "metadata": {},
   "outputs": [
    {
     "name": "stdout",
     "output_type": "stream",
     "text": [
      "0    medium\n",
      "1     small\n",
      "2     small\n",
      "3     large\n",
      "4    medium\n",
      "5     large\n",
      "6     large\n",
      "dtype: category\n",
      "Categories (3, object): ['small' < 'medium' < 'large']\n"
     ]
    }
   ],
   "source": [
    "# manual bin range in cut\n",
    "A_binned = pd.cut(A, bins=[-1, 3, 6, 10], labels=[\"small\",\"medium\",\"large\"])\n",
    "print(A_binned)"
   ]
  },
  {
   "cell_type": "code",
   "execution_count": 56,
   "metadata": {},
   "outputs": [
    {
     "name": "stdout",
     "output_type": "stream",
     "text": [
      "(0.999, 4.667]    4\n",
      "(4.667, 6.333]    4\n",
      "(6.333, 10.0]     4\n",
      "dtype: int64\n"
     ]
    }
   ],
   "source": [
    "#qcut - focus on number of values that fall into bins\n",
    "A = pd.Series([1, 4, 2, 10, 5, 6, 8, 7, 5, 3, 5, 9])\n",
    "A_binned = pd.qcut(A, q=3)\n",
    "print(A_binned.value_counts())"
   ]
  },
  {
   "cell_type": "code",
   "execution_count": 57,
   "metadata": {},
   "outputs": [
    {
     "name": "stdout",
     "output_type": "stream",
     "text": [
      "(0.999, 5.5]    6\n",
      "(5.5, 8.25]     3\n",
      "(8.25, 14.0]    3\n",
      "dtype: int64\n"
     ]
    }
   ],
   "source": [
    "# Manual quantile to be kept in a bin in qcut\n",
    "A = pd.Series([1, 4, 2, 3, 10, 5, 6, 8, 7, 5, 9, 14])\n",
    "A_binned = pd.qcut(A, q=[0, 0.50, 0.75, 1]) # smallest 50% in bin1, from 50% to 75% in bin2 and rest in last bin\n",
    "print(A_binned.value_counts())"
   ]
  },
  {
   "cell_type": "code",
   "execution_count": 58,
   "metadata": {},
   "outputs": [
    {
     "name": "stdout",
     "output_type": "stream",
     "text": [
      "   price  price_updated\n",
      "1   2.99          3.289\n",
      "2   2.99          3.289\n",
      "3   2.99          3.289\n",
      "4   2.99          3.289\n",
      "5   1.99          2.189\n",
      "    price  price_updated\n",
      "8    4.99           4.99\n",
      "9    4.99           4.99\n",
      "10   4.99           4.99\n",
      "11  12.99          12.99\n",
      "12  12.99          12.99\n"
     ]
    }
   ],
   "source": [
    "# where clause\n",
    "# Increase price of grocery by 10% which are less than $3\n",
    "grocery[\"price_updated\"] = grocery[\"price\"].where(\n",
    "  grocery[\"price\"] >= 3,\n",
    "  other = grocery[\"price\"] * 1.1\n",
    ")\n",
    "print(grocery[grocery[\"price\"] < 3][[\"price\",\"price_updated\"]].head()) \n",
    "print(grocery[grocery[\"price\"] > 3][[\"price\",\"price_updated\"]].head())\n"
   ]
  },
  {
   "attachments": {},
   "cell_type": "markdown",
   "metadata": {},
   "source": [
    "## Data Visualization"
   ]
  },
  {
   "cell_type": "code",
   "execution_count": 59,
   "metadata": {},
   "outputs": [
    {
     "data": {
      "text/plain": [
       "'\\ngrocery[\"price\"].plot(\\n    kind = \"hist\",\\n    figsize = (10, 6),\\n    title = \"Histogram of grocery prices\",\\n    xticks = [2,3,4,5,6,7,8,9,10,11,12]\\n)\\n'"
      ]
     },
     "execution_count": 59,
     "metadata": {},
     "output_type": "execute_result"
    },
    {
     "data": {
      "image/png": "[encoded data removed]",
      "text/plain": [
       "<Figure size 432x288 with 1 Axes>"
      ]
     },
     "metadata": {
      "needs_background": "light"
     },
     "output_type": "display_data"
    }
   ],
   "source": [
    "# histogram\n",
    "grocery[\"price\"].plot(kind=\"hist\")\n",
    "'''\n",
    "grocery[\"price\"].plot(\n",
    "    kind = \"hist\",\n",
    "    figsize = (10, 6),\n",
    "    title = \"Histogram of grocery prices\",\n",
    "    xticks = [2,3,4,5,6,7,8,9,10,11,12]\n",
    ")\n",
    "'''"
   ]
  },
  {
   "cell_type": "code",
   "execution_count": 60,
   "metadata": {},
   "outputs": [
    {
     "data": {
      "text/plain": [
       "<AxesSubplot:title={'center':'Daily tomato sales'}, xlabel='sales_date'>"
      ]
     },
     "execution_count": 60,
     "metadata": {},
     "output_type": "execute_result"
    },
    {
     "data": {
      "image/png": "[encoded data removed]",
      "text/plain": [
       "<Figure size 720x360 with 2 Axes>"
      ]
     },
     "metadata": {
      "needs_background": "light"
     },
     "output_type": "display_data"
    }
   ],
   "source": [
    "# line plot\n",
    "grocery[grocery[\"product_group\"]==\"electronics\"].plot(\n",
    "    x = \"sales_date\", \n",
    "    y = [\"sales_quantity\",\"price\"],\n",
    "    kind = \"line\",\n",
    "    figsize = (10,5),\n",
    "    title = \"Daily tomato sales\",\n",
    "    secondary_y = \"price\"\n",
    "    #xlabel = \"Sales date\",\n",
    "    #ylabel = \"Sales quantity\"\n",
    ")"
   ]
  },
  {
   "cell_type": "code",
   "execution_count": 61,
   "metadata": {},
   "outputs": [
    {
     "data": {
      "text/plain": [
       "<AxesSubplot:title={'center':'Cost vs Price'}, xlabel='price', ylabel='cost'>"
      ]
     },
     "execution_count": 61,
     "metadata": {},
     "output_type": "execute_result"
    },
    {
     "data": {
      "image/png": "[encoded data removed]",
      "text/plain": [
       "<Figure size 576x360 with 1 Axes>"
      ]
     },
     "metadata": {
      "needs_background": "light"
     },
     "output_type": "display_data"
    }
   ],
   "source": [
    "# scatter plot\n",
    "sales.plot(\n",
    "    x = \"price\",\n",
    "    y = \"cost\",\n",
    "    kind = \"scatter\",\n",
    "    figsize = (8, 5),\n",
    "    title = \"Cost vs Price\",\n",
    "    xlim = (0, 1000),\n",
    "    ylim = (0, 800),\n",
    "    grid = True\n",
    ")\n"
   ]
  },
  {
   "attachments": {},
   "cell_type": "markdown",
   "metadata": {},
   "source": [
    "## Combining Dataframes"
   ]
  },
  {
   "cell_type": "code",
   "execution_count": 62,
   "metadata": {},
   "outputs": [
    {
     "name": "stdout",
     "output_type": "stream",
     "text": [
      "   A   B  C\n",
      "0  1  11  a\n",
      "1  5   6  d\n",
      "2  3   9  f\n",
      "3  2   6  b\n",
      "4  2  14  b\n",
      "5  4   9  b\n",
      "6  1   5  j\n",
      "7  7   8  a\n"
     ]
    }
   ],
   "source": [
    "# Concat Function\n",
    "# Join with common columns\n",
    "df1 = pd.DataFrame({\"A\":[1,5,3,2], \"B\":[11,6,9,6], \"C\":[\"a\",\"d\",\"f\",\"b\"]})\n",
    "df2 = pd.DataFrame({\"A\":[2,4,1,7], \"B\":[14,9,5,8], \"C\":[\"b\",\"b\",\"j\",\"a\"]})\n",
    "# df_combined = pd.concat([df1, df2], axis=0)\n",
    "df_combined = pd.concat([df1, df2], axis=0, ignore_index=True)\n",
    "print(df_combined)"
   ]
  },
  {
   "cell_type": "code",
   "execution_count": 63,
   "metadata": {},
   "outputs": [
    {
     "name": "stdout",
     "output_type": "stream",
     "text": [
      "   A   B\n",
      "0  1  11\n",
      "1  5   6\n",
      "2  3   9\n",
      "3  2   6\n",
      "4  2  14\n",
      "5  4   9\n",
      "6  1   5\n",
      "7  7   8\n"
     ]
    }
   ],
   "source": [
    "# inner join\n",
    "df1 = pd.DataFrame({\"A\":[1,5,3,2], \"B\":[11,6,9,6], \"C\":[\"a\",\"d\",\"f\",\"b\"]})\n",
    "df2 = pd.DataFrame({\"A\":[2,4,1,7], \"B\":[14,9,5,8], \"D\":[\"b\",\"b\",\"j\",\"a\"]})\n",
    "df_combined = pd.concat([df1, df2], join=\"inner\", ignore_index=True)\n",
    "print(df_combined)"
   ]
  },
  {
   "cell_type": "code",
   "execution_count": 64,
   "metadata": {},
   "outputs": [
    {
     "name": "stdout",
     "output_type": "stream",
     "text": [
      "   A   B  C  A   B  D\n",
      "0  1  11  a  2  14  b\n",
      "1  5   6  d  4   9  b\n",
      "2  3   9  f  1   5  j\n",
      "3  2   6  b  7   8  a\n"
     ]
    }
   ],
   "source": [
    "# Join with common row indexes\n",
    "df1 = pd.DataFrame({\"A\":[1,5,3,2], \"B\":[11,6,9,6], \"C\":[\"a\",\"d\",\"f\",\"b\"]})\n",
    "df2 = pd.DataFrame({\"A\":[2,4,1,7], \"B\":[14,9,5,8], \"D\":[\"b\",\"b\",\"j\",\"a\"]})\n",
    "df_combined = pd.concat([df1, df2], axis=1)\n",
    "print(df_combined)"
   ]
  },
  {
   "cell_type": "code",
   "execution_count": 65,
   "metadata": {},
   "outputs": [
    {
     "name": "stdout",
     "output_type": "stream",
     "text": [
      "   product_code  weight  price  sales_date  sales_qty\n",
      "0          1001     125   10.5  2021-12-10        8.0\n",
      "1          1002     200   24.5  2021-12-10       14.0\n",
      "2          1003     100    9.9  2021-12-10       22.0\n",
      "3          1004     400   34.5         NaN        NaN\n"
     ]
    }
   ],
   "source": [
    "# Merge Function\n",
    "product = pd.DataFrame({\n",
    "  \"product_code\": [1001, 1002, 1003, 1004],\n",
    "  \"weight\": [125, 200, 100, 400],\n",
    "  \"price\": [10.5, 24.5, 9.9, 34.5]\n",
    "})\n",
    "sales = pd.DataFrame({\n",
    "  \"product_code\": [1001, 1002, 1003, 1007],\n",
    "  \"sales_date\": [\"2021-12-10\"] * 4,\n",
    "  \"sales_qty\": [8, 14, 22, 7]\n",
    "})\n",
    "# merge DataFrames\n",
    "merged_df = product.merge(sales, how=\"left\", on=\"product_code\") # left,inner and outer\n",
    "print(merged_df)"
   ]
  },
  {
   "attachments": {},
   "cell_type": "markdown",
   "metadata": {},
   "source": [
    "## Improve Performance\n",
    "\n",
    "- Export dataframe object to hdf,pickle or gbq file format for faster load times\n",
    "- Use category type instead of object(Suppose we have country column, no matter how many million rows but there will be only certain few countries)\n",
    "- Use Vectorize instead of iterrows when traversing the data"
   ]
  },
  {
   "cell_type": "code",
   "execution_count": 66,
   "metadata": {},
   "outputs": [],
   "source": [
    "grocery.to_hdf(\"grocerydata.hdf\", key=\"df\")"
   ]
  },
  {
   "attachments": {},
   "cell_type": "markdown",
   "metadata": {},
   "source": [
    "## Feature Engineering\n",
    "- Label Encoding : machine learning algorithm can only deal with numerical features, so we transform categorical data to numerical one.\n",
    "\n"
   ]
  },
  {
   "cell_type": "code",
   "execution_count": 67,
   "metadata": {},
   "outputs": [
    {
     "name": "stdout",
     "output_type": "stream",
     "text": [
      "/n\n",
      "    col1  col1_label_encoding\n",
      "0    Sun                    3\n",
      "1    Sun                    3\n",
      "2   Moon                    2\n",
      "3  Earth                    0\n",
      "4   Monn                    1\n",
      "5  Venus                    4\n"
     ]
    }
   ],
   "source": [
    "df = pd.DataFrame({\"col1\": [\"Sun\", \"Sun\", \"Moon\", \"Earth\", \"Monn\", \"Venus\"]})\n",
    "print(\"/n\")\n",
    "\n",
    "df[\"col1\"] = df[\"col1\"].astype(\"category\") # convert type of col1 to category\n",
    "\n",
    "df[\"col1_label_encoding\"] = df[\"col1\"].cat.codes # use categeory codes to make label encoding column\n",
    "\n",
    "print(df)"
   ]
  },
  {
   "attachments": {},
   "cell_type": "markdown",
   "metadata": {},
   "source": [
    "- one-hot encoding: convert categorical value to 0 or 1 "
   ]
  },
  {
   "cell_type": "code",
   "execution_count": 68,
   "metadata": {},
   "outputs": [
    {
     "name": "stdout",
     "output_type": "stream",
     "text": [
      "    col1\n",
      "0    Sun\n",
      "1    Sun\n",
      "2   Moon\n",
      "3  Earth\n",
      "4   Moon\n",
      "5  Venus\n",
      "/n\n",
      "   Planet_Earth  Planet_Moon  Planet_Sun  Planet_Venus\n",
      "0             0            0           1             0\n",
      "1             0            0           1             0\n",
      "2             0            1           0             0\n",
      "3             1            0           0             0\n",
      "4             0            1           0             0\n",
      "5             0            0           0             1\n"
     ]
    }
   ],
   "source": [
    "df = pd.DataFrame({\"col1\": [\"Sun\", \"Sun\", \"Moon\", \"Earth\", \"Moon\", \"Venus\"]})\n",
    "print(df)\n",
    "print(\"/n\")\n",
    "#get_dummies function is used for on-hot encoding\n",
    "df_new = pd.get_dummies(df, columns=[\"col1\"], prefix=\"Planet\")\n",
    "print(df_new)"
   ]
  },
  {
   "attachments": {},
   "cell_type": "markdown",
   "metadata": {},
   "source": [
    "- count-encodings: uses the number of categories in the dataset as the new feature."
   ]
  },
  {
   "cell_type": "code",
   "execution_count": 69,
   "metadata": {},
   "outputs": [
    {
     "name": "stdout",
     "output_type": "stream",
     "text": [
      "    col1\n",
      "0    Sun\n",
      "1    Sun\n",
      "2   Moon\n",
      "3  Earth\n",
      "4   Moon\n",
      "5  Venus\n",
      "/n\n",
      "    col1  planet_count\n",
      "0    Sun             2\n",
      "1    Sun             2\n",
      "2   Moon             2\n",
      "3  Earth             1\n",
      "4   Moon             2\n",
      "5  Venus             1\n"
     ]
    }
   ],
   "source": [
    "\n",
    "df = pd.DataFrame({\"col1\": [\"Sun\", \"Sun\", \"Moon\", \"Earth\", \"Moon\", \"Venus\"]})\n",
    "print(df)\n",
    "print(\"/n\")\n",
    "df[\"planet_count\"] = df[\"col1\"].map(df[\"col1\"].value_counts().to_dict())\n",
    "print(df)"
   ]
  },
  {
   "attachments": {},
   "cell_type": "markdown",
   "metadata": {},
   "source": [
    "- mean-encodings: Mean encoding uses the mean of the target value as a new feature."
   ]
  },
  {
   "cell_type": "code",
   "execution_count": 70,
   "metadata": {},
   "outputs": [
    {
     "name": "stdout",
     "output_type": "stream",
     "text": [
      "/n\n",
      "   col1  price  col1_price_mean\n",
      "0   Sun     20             25.0\n",
      "1  Moon     30             35.0\n",
      "2   Sun     30             25.0\n",
      "3  Moon     35             35.0\n",
      "4  Moon     40             35.0\n",
      "5  Mars     55             55.0\n"
     ]
    }
   ],
   "source": [
    "df = pd.DataFrame({\n",
    "    \"col1\": [\"Sun\", \"Moon\", \"Sun\", \"Moon\", \"Moon\", \"Mars\"],\n",
    "    \"price\": [20, 30, 30, 35, 40, 55]\n",
    "})\n",
    "print(\"/n\")\n",
    "d = df.groupby([\"col1\"])['price'].mean().to_dict()\n",
    "df[\"col1_price_mean\"] = df[\"col1\"].map(d)\n",
    "print(df)\n"
   ]
  },
  {
   "attachments": {},
   "cell_type": "markdown",
   "metadata": {},
   "source": [
    "## Practice \n",
    "\n",
    "### Selection/Filters"
   ]
  },
  {
   "cell_type": "code",
   "execution_count": 71,
   "metadata": {},
   "outputs": [
    {
     "data": {
      "text/html": [
       "<div>\n",
       "<style scoped>\n",
       "    .dataframe tbody tr th:only-of-type {\n",
       "        vertical-align: middle;\n",
       "    }\n",
       "\n",
       "    .dataframe tbody tr th {\n",
       "        vertical-align: top;\n",
       "    }\n",
       "\n",
       "    .dataframe thead th {\n",
       "        text-align: right;\n",
       "    }\n",
       "</style>\n",
       "<table border=\"1\" class=\"dataframe\">\n",
       "  <thead>\n",
       "    <tr style=\"text-align: right;\">\n",
       "      <th></th>\n",
       "      <th>artist</th>\n",
       "      <th>country</th>\n",
       "      <th>plays</th>\n",
       "      <th>genre</th>\n",
       "      <th>fans</th>\n",
       "    </tr>\n",
       "  </thead>\n",
       "  <tbody>\n",
       "    <tr>\n",
       "      <th>0</th>\n",
       "      <td>The Beatles</td>\n",
       "      <td>UK</td>\n",
       "      <td>150</td>\n",
       "      <td>rock</td>\n",
       "      <td>50</td>\n",
       "    </tr>\n",
       "    <tr>\n",
       "      <th>1</th>\n",
       "      <td>Pink Floyd</td>\n",
       "      <td>UK</td>\n",
       "      <td>10000</td>\n",
       "      <td>rock</td>\n",
       "      <td>1500</td>\n",
       "    </tr>\n",
       "    <tr>\n",
       "      <th>2</th>\n",
       "      <td>Metallica</td>\n",
       "      <td>US</td>\n",
       "      <td>500</td>\n",
       "      <td>metal</td>\n",
       "      <td>50</td>\n",
       "    </tr>\n",
       "    <tr>\n",
       "      <th>3</th>\n",
       "      <td>Cairokee</td>\n",
       "      <td>Egypt</td>\n",
       "      <td>200</td>\n",
       "      <td>rock</td>\n",
       "      <td>10</td>\n",
       "    </tr>\n",
       "    <tr>\n",
       "      <th>4</th>\n",
       "      <td>ACDC</td>\n",
       "      <td>US</td>\n",
       "      <td>250</td>\n",
       "      <td>rock</td>\n",
       "      <td>20</td>\n",
       "    </tr>\n",
       "    <tr>\n",
       "      <th>5</th>\n",
       "      <td>The Doors</td>\n",
       "      <td>US</td>\n",
       "      <td>1000</td>\n",
       "      <td>rock</td>\n",
       "      <td>80</td>\n",
       "    </tr>\n",
       "    <tr>\n",
       "      <th>6</th>\n",
       "      <td>Poets of The Fall</td>\n",
       "      <td>Finland</td>\n",
       "      <td>250</td>\n",
       "      <td>rock</td>\n",
       "      <td>10</td>\n",
       "    </tr>\n",
       "    <tr>\n",
       "      <th>7</th>\n",
       "      <td>Megadeth</td>\n",
       "      <td>US</td>\n",
       "      <td>300</td>\n",
       "      <td>metal</td>\n",
       "      <td>20</td>\n",
       "    </tr>\n",
       "    <tr>\n",
       "      <th>8</th>\n",
       "      <td>Iron Maiden</td>\n",
       "      <td>UK</td>\n",
       "      <td>20000</td>\n",
       "      <td>metal</td>\n",
       "      <td>3500</td>\n",
       "    </tr>\n",
       "    <tr>\n",
       "      <th>9</th>\n",
       "      <td>Judas Priest</td>\n",
       "      <td>UK</td>\n",
       "      <td>5000</td>\n",
       "      <td>metal</td>\n",
       "      <td>1000</td>\n",
       "    </tr>\n",
       "  </tbody>\n",
       "</table>\n",
       "</div>"
      ],
      "text/plain": [
       "              artist  country  plays  genre  fans\n",
       "0        The Beatles       UK    150   rock    50\n",
       "1         Pink Floyd       UK  10000   rock  1500\n",
       "2          Metallica       US    500  metal    50\n",
       "3           Cairokee    Egypt    200   rock    10\n",
       "4               ACDC       US    250   rock    20\n",
       "5          The Doors       US   1000   rock    80\n",
       "6  Poets of The Fall  Finland    250   rock    10\n",
       "7           Megadeth       US    300  metal    20\n",
       "8        Iron Maiden       UK  20000  metal  3500\n",
       "9       Judas Priest       UK   5000  metal  1000"
      ]
     },
     "execution_count": 71,
     "metadata": {},
     "output_type": "execute_result"
    }
   ],
   "source": [
    "import pandas as pd\n",
    "music = pd.read_csv(\"music.csv\")\n",
    "music"
   ]
  },
  {
   "cell_type": "code",
   "execution_count": 72,
   "metadata": {},
   "outputs": [
    {
     "name": "stdout",
     "output_type": "stream",
     "text": [
      "         artist country  plays  genre  fans\n",
      "0   The Beatles      UK    150   rock    50\n",
      "1    Pink Floyd      UK  10000   rock  1500\n",
      "8   Iron Maiden      UK  20000  metal  3500\n",
      "9  Judas Priest      UK   5000  metal  1000\n"
     ]
    }
   ],
   "source": [
    "# Select artist only from UK\n",
    "print(music[music[\"country\"]==\"UK\"])"
   ]
  },
  {
   "cell_type": "code",
   "execution_count": 73,
   "metadata": {},
   "outputs": [
    {
     "name": "stdout",
     "output_type": "stream",
     "text": [
      "              artist  country  plays genre  fans\n",
      "1         Pink Floyd       UK  10000  rock  1500\n",
      "4               ACDC       US    250  rock    20\n",
      "5          The Doors       US   1000  rock    80\n",
      "6  Poets of The Fall  Finland    250  rock    10\n"
     ]
    }
   ],
   "source": [
    "# Select rock artist with 200 plays or more\n",
    "print(music[(music[\"genre\"]==\"rock\") & (music[\"plays\"]>200)])"
   ]
  },
  {
   "cell_type": "code",
   "execution_count": 74,
   "metadata": {},
   "outputs": [
    {
     "name": "stdout",
     "output_type": "stream",
     "text": [
      "              artist  country  plays  genre  fans\n",
      "2          Metallica       US    500  metal    50\n",
      "3           Cairokee    Egypt    200   rock    10\n",
      "4               ACDC       US    250   rock    20\n",
      "5          The Doors       US   1000   rock    80\n",
      "6  Poets of The Fall  Finland    250   rock    10\n",
      "7           Megadeth       US    300  metal    20\n"
     ]
    }
   ],
   "source": [
    "# artist outside uk \n",
    "print(music[~(music[\"country\"]==\"UK\")])"
   ]
  },
  {
   "cell_type": "code",
   "execution_count": 75,
   "metadata": {},
   "outputs": [
    {
     "name": "stdout",
     "output_type": "stream",
     "text": [
      "              artist  country  plays  genre  fans\n",
      "0        The Beatles       UK    150   rock    50\n",
      "1         Pink Floyd       UK  10000   rock  1500\n",
      "3           Cairokee    Egypt    200   rock    10\n",
      "4               ACDC       US    250   rock    20\n",
      "6  Poets of The Fall  Finland    250   rock    10\n",
      "7           Megadeth       US    300  metal    20\n",
      "8        Iron Maiden       UK  20000  metal  3500\n",
      "9       Judas Priest       UK   5000  metal  1000\n"
     ]
    }
   ],
   "source": [
    "# Exclude US top bands (> 400 plays)\n",
    "print(music[~((music[\"country\"]==\"US\") & (music[\"plays\"]>400)) ])"
   ]
  },
  {
   "cell_type": "code",
   "execution_count": 76,
   "metadata": {},
   "outputs": [
    {
     "name": "stdout",
     "output_type": "stream",
     "text": [
      "              artist  country  plays  genre  fans\n",
      "1         Pink Floyd       UK  10000   rock  1500\n",
      "2          Metallica       US    500  metal    50\n",
      "3           Cairokee    Egypt    200   rock    10\n",
      "4               ACDC       US    250   rock    20\n",
      "5          The Doors       US   1000   rock    80\n",
      "6  Poets of The Fall  Finland    250   rock    10\n",
      "7           Megadeth       US    300  metal    20\n",
      "8        Iron Maiden       UK  20000  metal  3500\n",
      "9       Judas Priest       UK   5000  metal  1000\n"
     ]
    }
   ],
   "source": [
    "# Artist outside UK > 100 plays and inside UK > 200\n",
    "print(music[((music[\"country\"]!=\"UK\") & (music[\"plays\"]>100)) | ((music[\"country\"]==\"UK\") & (music[\"plays\"]>200)) ])"
   ]
  },
  {
   "cell_type": "code",
   "execution_count": 77,
   "metadata": {},
   "outputs": [
    {
     "name": "stdout",
     "output_type": "stream",
     "text": [
      "         artist country  plays  genre  fans\n",
      "0   The Beatles      UK    150   rock    50\n",
      "1    Pink Floyd      UK  10000   rock  1500\n",
      "2     Metallica      US    500  metal    50\n",
      "4          ACDC      US    250   rock    20\n",
      "5     The Doors      US   1000   rock    80\n",
      "7      Megadeth      US    300  metal    20\n",
      "8   Iron Maiden      UK  20000  metal  3500\n",
      "9  Judas Priest      UK   5000  metal  1000\n"
     ]
    }
   ],
   "source": [
    "# filter by multiple countries\n",
    "print(music[music[\"country\"].isin([\"UK\",\"US\"])])"
   ]
  },
  {
   "cell_type": "code",
   "execution_count": 78,
   "metadata": {},
   "outputs": [
    {
     "name": "stdout",
     "output_type": "stream",
     "text": [
      "        artist country  plays genre  fans\n",
      "0  The Beatles      UK    150  rock    50\n",
      "5    The Doors      US   1000  rock    80\n"
     ]
    }
   ],
   "source": [
    "# Filter artist with name starting with \"The\"\n",
    "print(music[music[\"artist\"].str.startswith(\"The\")])"
   ]
  },
  {
   "cell_type": "code",
   "execution_count": 79,
   "metadata": {},
   "outputs": [
    {
     "name": "stdout",
     "output_type": "stream",
     "text": [
      "              artist  country  plays genre  fans\n",
      "0        The Beatles       UK    150  rock    50\n",
      "6  Poets of The Fall  Finland    250  rock    10\n"
     ]
    }
   ],
   "source": [
    "# Filter artist with name containing \"The\" and from UK or Finland\n",
    "temp = music[music[\"artist\"].str.contains(\"The\")]\n",
    "print(temp[temp[\"country\"].isin([\"UK\",\"Finland\"])])\n"
   ]
  },
  {
   "cell_type": "code",
   "execution_count": 80,
   "metadata": {},
   "outputs": [
    {
     "name": "stdout",
     "output_type": "stream",
     "text": [
      "        artist country  plays  genre  fans\n",
      "2    Metallica      US    500  metal    50\n",
      "3     Cairokee   Egypt    200   rock    10\n",
      "4         ACDC      US    250   rock    20\n",
      "5    The Doors      US   1000   rock    80\n",
      "7     Megadeth      US    300  metal    20\n",
      "8  Iron Maiden      UK  20000  metal  3500\n"
     ]
    }
   ],
   "source": [
    "# Filter artist, exclude UK or Finland but still return if they have more than 10000 plays\n",
    "print(music[~music[\"country\"].isin([\"UK\",\"Finland\"]) | (music[\"plays\"]>10000)])"
   ]
  },
  {
   "attachments": {},
   "cell_type": "markdown",
   "metadata": {},
   "source": [
    "### Grouping"
   ]
  },
  {
   "cell_type": "code",
   "execution_count": 81,
   "metadata": {},
   "outputs": [
    {
     "name": "stdout",
     "output_type": "stream",
     "text": [
      "         plays\n",
      "country       \n",
      "UK       35150\n",
      "US        2050\n",
      "Finland    250\n",
      "Egypt      200\n"
     ]
    }
   ],
   "source": [
    "# sum of plays per country\n",
    "print(music.groupby(\"country\").agg(\n",
    "        plays = (\"plays\",\"sum\")\n",
    "    ).sort_values(\n",
    "        by=\"plays\",\n",
    "        ascending=False\n",
    "    ))\n",
    "# df.groupby(['country']).plays.sum().to_dict()"
   ]
  },
  {
   "cell_type": "code",
   "execution_count": 82,
   "metadata": {},
   "outputs": [
    {
     "data": {
      "text/plain": [
       "{'plays': {('Egypt', 'rock'): 200,\n",
       "  ('Finland', 'rock'): 250,\n",
       "  ('UK', 'metal'): 25000,\n",
       "  ('UK', 'rock'): 10150,\n",
       "  ('US', 'metal'): 800,\n",
       "  ('US', 'rock'): 1250}}"
      ]
     },
     "execution_count": 82,
     "metadata": {},
     "output_type": "execute_result"
    }
   ],
   "source": [
    "# Sum of plays sper country + genre\n",
    "music.groupby([\"country\",\"genre\"]).agg(\n",
    "    plays = (\"plays\",\"sum\")\n",
    ").to_dict()"
   ]
  },
  {
   "cell_type": "code",
   "execution_count": 83,
   "metadata": {},
   "outputs": [
    {
     "data": {
      "text/plain": [
       "['UK', 'US']"
      ]
     },
     "execution_count": 83,
     "metadata": {},
     "output_type": "execute_result"
    }
   ],
   "source": [
    "# Countries with > 1000 plays\n",
    "temp = music.groupby([\"country\"]).agg(\n",
    "    plays = (\"plays\",\"sum\")\n",
    ")\n",
    "list(temp[temp[\"plays\"]>1000].index)\n",
    "\n",
    "# alternate way\n",
    "# temp = music.groupby('country').plays.sum().reset_index()\n",
    "# list(temp[temp[\"plays\"] > 1000][\"country\"])"
   ]
  },
  {
   "cell_type": "code",
   "execution_count": 84,
   "metadata": {},
   "outputs": [
    {
     "data": {
      "text/plain": [
       "{'Egypt': 20.0,\n",
       " 'Finland': 25.0,\n",
       " 'UK': 5.809917355371901,\n",
       " 'US': 12.058823529411764}"
      ]
     },
     "execution_count": 84,
     "metadata": {},
     "output_type": "execute_result"
    }
   ],
   "source": [
    "# Make a dictionary with key as country and value as Ratio of play to fans\n",
    "temp = music.groupby([\"country\"]).agg(\n",
    "    plays = (\"plays\",\"sum\"),\n",
    "    fans = (\"fans\",\"sum\")\n",
    ")\n",
    "temp[\"ratio\"] = temp[\"plays\"]/temp[\"fans\"]\n",
    "temp[\"ratio\"].to_dict()\n",
    "\n",
    "# Alternative way\n",
    "# music.groupby('country').apply(lambda x: x.plays.sum() / x.fans.sum()).to_dict()\n"
   ]
  },
  {
   "cell_type": "code",
   "execution_count": 85,
   "metadata": {},
   "outputs": [
    {
     "data": {
      "text/plain": [
       "{'Egypt': {'plays': 200, 'avg_plays': 200.0, 'max_fans_of_single_artist': 10},\n",
       " 'Finland': {'plays': 250,\n",
       "  'avg_plays': 250.0,\n",
       "  'max_fans_of_single_artist': 10},\n",
       " 'UK': {'plays': 35150,\n",
       "  'avg_plays': 8787.5,\n",
       "  'max_fans_of_single_artist': 3500},\n",
       " 'US': {'plays': 2050, 'avg_plays': 512.5, 'max_fans_of_single_artist': 80}}"
      ]
     },
     "execution_count": 85,
     "metadata": {},
     "output_type": "execute_result"
    }
   ],
   "source": [
    "music.groupby([\"country\"]).agg(\n",
    "    plays = (\"plays\",\"sum\"),\n",
    "    avg_plays = (\"plays\",\"mean\"),\n",
    "    max_fans_of_single_artist = (\"fans\",\"max\"),\n",
    ").to_dict(orient=\"index\")\n",
    "\n",
    "# Alternative way\n",
    "# grp = music.groupby([\"country\"]).agg({\n",
    "#     'plays': [\"sum\",\"mean\"],\n",
    "#     'fans': [\"max\"],\n",
    "#   })\n",
    "# grp.columns = grp.columns.map('_'.join)\n",
    "# return grp.to_dict(orient=\"index\")"
   ]
  },
  {
   "attachments": {},
   "cell_type": "markdown",
   "metadata": {},
   "source": [
    "### Dates "
   ]
  },
  {
   "cell_type": "code",
   "execution_count": 86,
   "metadata": {},
   "outputs": [
    {
     "data": {
      "text/html": [
       "<div>\n",
       "<style scoped>\n",
       "    .dataframe tbody tr th:only-of-type {\n",
       "        vertical-align: middle;\n",
       "    }\n",
       "\n",
       "    .dataframe tbody tr th {\n",
       "        vertical-align: top;\n",
       "    }\n",
       "\n",
       "    .dataframe thead th {\n",
       "        text-align: right;\n",
       "    }\n",
       "</style>\n",
       "<table border=\"1\" class=\"dataframe\">\n",
       "  <thead>\n",
       "    <tr style=\"text-align: right;\">\n",
       "      <th></th>\n",
       "      <th>date</th>\n",
       "      <th>month</th>\n",
       "      <th>year</th>\n",
       "    </tr>\n",
       "  </thead>\n",
       "  <tbody>\n",
       "    <tr>\n",
       "      <th>0</th>\n",
       "      <td>2020-04-21 17:52:20</td>\n",
       "      <td>4</td>\n",
       "      <td>2020</td>\n",
       "    </tr>\n",
       "    <tr>\n",
       "      <th>1</th>\n",
       "      <td>2019-08-15 04:32:38</td>\n",
       "      <td>8</td>\n",
       "      <td>2019</td>\n",
       "    </tr>\n",
       "    <tr>\n",
       "      <th>2</th>\n",
       "      <td>2019-04-12 06:39:37</td>\n",
       "      <td>4</td>\n",
       "      <td>2019</td>\n",
       "    </tr>\n",
       "    <tr>\n",
       "      <th>3</th>\n",
       "      <td>2020-10-04 06:05:16</td>\n",
       "      <td>10</td>\n",
       "      <td>2020</td>\n",
       "    </tr>\n",
       "    <tr>\n",
       "      <th>4</th>\n",
       "      <td>2020-07-21 22:19:35</td>\n",
       "      <td>7</td>\n",
       "      <td>2020</td>\n",
       "    </tr>\n",
       "    <tr>\n",
       "      <th>...</th>\n",
       "      <td>...</td>\n",
       "      <td>...</td>\n",
       "      <td>...</td>\n",
       "    </tr>\n",
       "    <tr>\n",
       "      <th>95</th>\n",
       "      <td>2019-12-05 22:39:29</td>\n",
       "      <td>12</td>\n",
       "      <td>2019</td>\n",
       "    </tr>\n",
       "    <tr>\n",
       "      <th>96</th>\n",
       "      <td>2020-11-23 18:02:26</td>\n",
       "      <td>11</td>\n",
       "      <td>2020</td>\n",
       "    </tr>\n",
       "    <tr>\n",
       "      <th>97</th>\n",
       "      <td>2019-06-22 05:01:15</td>\n",
       "      <td>6</td>\n",
       "      <td>2019</td>\n",
       "    </tr>\n",
       "    <tr>\n",
       "      <th>98</th>\n",
       "      <td>2020-08-25 21:38:58</td>\n",
       "      <td>8</td>\n",
       "      <td>2020</td>\n",
       "    </tr>\n",
       "    <tr>\n",
       "      <th>99</th>\n",
       "      <td>2019-06-05 21:04:08</td>\n",
       "      <td>6</td>\n",
       "      <td>2019</td>\n",
       "    </tr>\n",
       "  </tbody>\n",
       "</table>\n",
       "<p>100 rows × 3 columns</p>\n",
       "</div>"
      ],
      "text/plain": [
       "                  date  month  year\n",
       "0  2020-04-21 17:52:20      4  2020\n",
       "1  2019-08-15 04:32:38      8  2019\n",
       "2  2019-04-12 06:39:37      4  2019\n",
       "3  2020-10-04 06:05:16     10  2020\n",
       "4  2020-07-21 22:19:35      7  2020\n",
       "..                 ...    ...   ...\n",
       "95 2019-12-05 22:39:29     12  2019\n",
       "96 2020-11-23 18:02:26     11  2020\n",
       "97 2019-06-22 05:01:15      6  2019\n",
       "98 2020-08-25 21:38:58      8  2020\n",
       "99 2019-06-05 21:04:08      6  2019\n",
       "\n",
       "[100 rows x 3 columns]"
      ]
     },
     "execution_count": 86,
     "metadata": {},
     "output_type": "execute_result"
    }
   ],
   "source": [
    "dates = pd.read_csv(\"dates.csv\")\n",
    "dates[\"date\"] = pd.to_datetime(dates[\"date\"])\n",
    "dates[\"month\"] = dates[\"date\"].dt.month\n",
    "dates[\"year\"] = dates[\"date\"].dt.year\n",
    "dates "
   ]
  },
  {
   "cell_type": "code",
   "execution_count": 87,
   "metadata": {},
   "outputs": [
    {
     "data": {
      "text/plain": [
       "4"
      ]
     },
     "execution_count": 87,
     "metadata": {},
     "output_type": "execute_result"
    }
   ],
   "source": [
    "# Number of concerts held in month of september\n",
    "len(dates[dates[\"month\"]==9])"
   ]
  },
  {
   "cell_type": "code",
   "execution_count": 88,
   "metadata": {},
   "outputs": [
    {
     "data": {
      "text/plain": [
       "44"
      ]
     },
     "execution_count": 88,
     "metadata": {},
     "output_type": "execute_result"
    }
   ],
   "source": [
    "# Number of concerts held in year 2019\n",
    "len(dates[dates[\"year\"]==2019])\n",
    "\n",
    "# Alternative way\n",
    "# start = pd.to_datetime(\"2019-01-01\")\n",
    "# end = pd.to_datetime(\"2019-12-31\")\n",
    "# len(dates[(dates[\"date\"]>=start) & (dates[\"date\"]<=end)])"
   ]
  },
  {
   "cell_type": "code",
   "execution_count": 89,
   "metadata": {},
   "outputs": [
    {
     "data": {
      "text/plain": [
       "['2019-01-01',\n",
       " '2019-01-08',\n",
       " '2019-01-15',\n",
       " '2019-01-22',\n",
       " '2019-01-29',\n",
       " '2019-02-05',\n",
       " '2019-02-12',\n",
       " '2019-02-19',\n",
       " '2019-02-26',\n",
       " '2019-03-05',\n",
       " '2019-03-12',\n",
       " '2019-03-19',\n",
       " '2019-03-26',\n",
       " '2019-04-02',\n",
       " '2019-04-09',\n",
       " '2019-04-16',\n",
       " '2019-04-23',\n",
       " '2019-04-30',\n",
       " '2019-05-07',\n",
       " '2019-05-14',\n",
       " '2019-05-21',\n",
       " '2019-05-28',\n",
       " '2019-06-04',\n",
       " '2019-06-11',\n",
       " '2019-06-18',\n",
       " '2019-06-25',\n",
       " '2019-07-02',\n",
       " '2019-07-09',\n",
       " '2019-07-16',\n",
       " '2019-07-23',\n",
       " '2019-07-30',\n",
       " '2019-08-06',\n",
       " '2019-08-13',\n",
       " '2019-08-20',\n",
       " '2019-08-27',\n",
       " '2019-09-03',\n",
       " '2019-09-10',\n",
       " '2019-09-17',\n",
       " '2019-09-24',\n",
       " '2019-10-01',\n",
       " '2019-10-08',\n",
       " '2019-10-15',\n",
       " '2019-10-22',\n",
       " '2019-10-29',\n",
       " '2019-11-05',\n",
       " '2019-11-12',\n",
       " '2019-11-19',\n",
       " '2019-11-26',\n",
       " '2019-12-03',\n",
       " '2019-12-10',\n",
       " '2019-12-17',\n",
       " '2019-12-24',\n",
       " '2019-12-31']"
      ]
     },
     "execution_count": 89,
     "metadata": {},
     "output_type": "execute_result"
    }
   ],
   "source": [
    "# Generate list of dates to set the concert schedule of a band, from 1 Jan 2019 to 31 Dec 2019, all seperated by 7 days\n",
    "temp = pd.date_range(start=\"2019-01-01\",end=\"2019-12-31\",freq=\"7D\")\n",
    "temp.strftime(\"%Y-%m-%d\").tolist()"
   ]
  },
  {
   "cell_type": "code",
   "execution_count": 90,
   "metadata": {},
   "outputs": [
    {
     "data": {
      "text/plain": [
       "date\n",
       "2019-01    3\n",
       "2019-02    3\n",
       "2019-03    1\n",
       "2019-04    4\n",
       "2019-05    3\n",
       "2019-06    5\n",
       "2019-07    2\n",
       "2019-08    7\n",
       "2019-09    2\n",
       "2019-10    6\n",
       "2019-11    2\n",
       "2019-12    6\n",
       "2020-01    2\n",
       "2020-02    4\n",
       "2020-03    6\n",
       "2020-04    5\n",
       "2020-05    2\n",
       "2020-06    5\n",
       "2020-07    8\n",
       "2020-08    5\n",
       "2020-09    2\n",
       "2020-10    5\n",
       "2020-11    3\n",
       "2020-12    4\n",
       "2021-01    2\n",
       "2021-02    3\n",
       "dtype: int64"
      ]
     },
     "execution_count": 90,
     "metadata": {},
     "output_type": "execute_result"
    }
   ],
   "source": [
    "resampled = dates.set_index('date').resample('MS').size()\n",
    "resampled = dates.set_index('date').resample('MS').size()\n",
    "resampled.index = resampled.index.map(lambda x: x.strftime(\"%Y-%m\"))\n",
    "resampled\n",
    "# dates.groupby([\"year\",\"month\"]).agg(\n",
    "#     total_concerts = (\"month\",\"sum\")\n",
    "# )"
   ]
  },
  {
   "attachments": {},
   "cell_type": "markdown",
   "metadata": {},
   "source": [
    "### Apply/Map"
   ]
  },
  {
   "cell_type": "code",
   "execution_count": 91,
   "metadata": {},
   "outputs": [],
   "source": [
    "# Suppose we want to apply certain function to every value of specific column, it can be done as follows - \n",
    "# df['my_col'].map(lambda x: my_magic_fn(x))\n",
    "\n",
    "# apply function when to all rows\n",
    "# applymap function when to every cell\n"
   ]
  },
  {
   "cell_type": "code",
   "execution_count": 92,
   "metadata": {},
   "outputs": [
    {
     "data": {
      "text/html": [
       "<div>\n",
       "<style scoped>\n",
       "    .dataframe tbody tr th:only-of-type {\n",
       "        vertical-align: middle;\n",
       "    }\n",
       "\n",
       "    .dataframe tbody tr th {\n",
       "        vertical-align: top;\n",
       "    }\n",
       "\n",
       "    .dataframe thead th {\n",
       "        text-align: right;\n",
       "    }\n",
       "</style>\n",
       "<table border=\"1\" class=\"dataframe\">\n",
       "  <thead>\n",
       "    <tr style=\"text-align: right;\">\n",
       "      <th></th>\n",
       "      <th>artist</th>\n",
       "      <th>country</th>\n",
       "      <th>plays</th>\n",
       "      <th>genre</th>\n",
       "      <th>fans</th>\n",
       "      <th>continent</th>\n",
       "    </tr>\n",
       "  </thead>\n",
       "  <tbody>\n",
       "    <tr>\n",
       "      <th>0</th>\n",
       "      <td>The Beatles</td>\n",
       "      <td>UK</td>\n",
       "      <td>150</td>\n",
       "      <td>rock</td>\n",
       "      <td>50</td>\n",
       "      <td>Europe</td>\n",
       "    </tr>\n",
       "    <tr>\n",
       "      <th>1</th>\n",
       "      <td>Pink Floyd</td>\n",
       "      <td>UK</td>\n",
       "      <td>10000</td>\n",
       "      <td>rock</td>\n",
       "      <td>1500</td>\n",
       "      <td>Europe</td>\n",
       "    </tr>\n",
       "    <tr>\n",
       "      <th>2</th>\n",
       "      <td>Metallica</td>\n",
       "      <td>US</td>\n",
       "      <td>500</td>\n",
       "      <td>metal</td>\n",
       "      <td>50</td>\n",
       "      <td>North America</td>\n",
       "    </tr>\n",
       "    <tr>\n",
       "      <th>3</th>\n",
       "      <td>Cairokee</td>\n",
       "      <td>Egypt</td>\n",
       "      <td>200</td>\n",
       "      <td>rock</td>\n",
       "      <td>10</td>\n",
       "      <td>Africa</td>\n",
       "    </tr>\n",
       "    <tr>\n",
       "      <th>4</th>\n",
       "      <td>ACDC</td>\n",
       "      <td>US</td>\n",
       "      <td>250</td>\n",
       "      <td>rock</td>\n",
       "      <td>20</td>\n",
       "      <td>North America</td>\n",
       "    </tr>\n",
       "    <tr>\n",
       "      <th>5</th>\n",
       "      <td>The Doors</td>\n",
       "      <td>US</td>\n",
       "      <td>1000</td>\n",
       "      <td>rock</td>\n",
       "      <td>80</td>\n",
       "      <td>North America</td>\n",
       "    </tr>\n",
       "    <tr>\n",
       "      <th>6</th>\n",
       "      <td>Poets of The Fall</td>\n",
       "      <td>Finland</td>\n",
       "      <td>250</td>\n",
       "      <td>rock</td>\n",
       "      <td>10</td>\n",
       "      <td>Europe</td>\n",
       "    </tr>\n",
       "    <tr>\n",
       "      <th>7</th>\n",
       "      <td>Megadeth</td>\n",
       "      <td>US</td>\n",
       "      <td>300</td>\n",
       "      <td>metal</td>\n",
       "      <td>20</td>\n",
       "      <td>North America</td>\n",
       "    </tr>\n",
       "    <tr>\n",
       "      <th>8</th>\n",
       "      <td>Iron Maiden</td>\n",
       "      <td>UK</td>\n",
       "      <td>20000</td>\n",
       "      <td>metal</td>\n",
       "      <td>3500</td>\n",
       "      <td>Europe</td>\n",
       "    </tr>\n",
       "    <tr>\n",
       "      <th>9</th>\n",
       "      <td>Judas Priest</td>\n",
       "      <td>UK</td>\n",
       "      <td>5000</td>\n",
       "      <td>metal</td>\n",
       "      <td>1000</td>\n",
       "      <td>Europe</td>\n",
       "    </tr>\n",
       "  </tbody>\n",
       "</table>\n",
       "</div>"
      ],
      "text/plain": [
       "              artist  country  plays  genre  fans      continent\n",
       "0        The Beatles       UK    150   rock    50         Europe\n",
       "1         Pink Floyd       UK  10000   rock  1500         Europe\n",
       "2          Metallica       US    500  metal    50  North America\n",
       "3           Cairokee    Egypt    200   rock    10         Africa\n",
       "4               ACDC       US    250   rock    20  North America\n",
       "5          The Doors       US   1000   rock    80  North America\n",
       "6  Poets of The Fall  Finland    250   rock    10         Europe\n",
       "7           Megadeth       US    300  metal    20  North America\n",
       "8        Iron Maiden       UK  20000  metal  3500         Europe\n",
       "9       Judas Priest       UK   5000  metal  1000         Europe"
      ]
     },
     "execution_count": 92,
     "metadata": {},
     "output_type": "execute_result"
    }
   ],
   "source": [
    "# Tell the continent of origin of each band in music dataset\n",
    "continents = {'UK': 'Europe', 'US': 'North America', 'Egypt': 'Africa', 'Finland': 'Europe'}  \n",
    "music[\"continent\"] = music[\"country\"].map(continents)\n",
    "# musi  c[\"continent\"] =  music['country'].map(lambda x: continents[x])\n",
    "music"
   ]
  },
  {
   "cell_type": "code",
   "execution_count": 93,
   "metadata": {},
   "outputs": [],
   "source": [
    "# Get first 2 letters of each band name\n",
    "music['initials'] = music['artist'].map(lambda x: x[:2])"
   ]
  },
  {
   "cell_type": "code",
   "execution_count": 94,
   "metadata": {},
   "outputs": [
    {
     "data": {
      "text/html": [
       "<div>\n",
       "<style scoped>\n",
       "    .dataframe tbody tr th:only-of-type {\n",
       "        vertical-align: middle;\n",
       "    }\n",
       "\n",
       "    .dataframe tbody tr th {\n",
       "        vertical-align: top;\n",
       "    }\n",
       "\n",
       "    .dataframe thead th {\n",
       "        text-align: right;\n",
       "    }\n",
       "</style>\n",
       "<table border=\"1\" class=\"dataframe\">\n",
       "  <thead>\n",
       "    <tr style=\"text-align: right;\">\n",
       "      <th></th>\n",
       "      <th>artist</th>\n",
       "      <th>country</th>\n",
       "      <th>plays</th>\n",
       "      <th>genre</th>\n",
       "      <th>fans</th>\n",
       "      <th>continent</th>\n",
       "      <th>initials</th>\n",
       "      <th>popularity</th>\n",
       "    </tr>\n",
       "  </thead>\n",
       "  <tbody>\n",
       "    <tr>\n",
       "      <th>0</th>\n",
       "      <td>The Beatles</td>\n",
       "      <td>UK</td>\n",
       "      <td>150</td>\n",
       "      <td>rock</td>\n",
       "      <td>50</td>\n",
       "      <td>Europe</td>\n",
       "      <td>Th</td>\n",
       "      <td>not popular</td>\n",
       "    </tr>\n",
       "    <tr>\n",
       "      <th>1</th>\n",
       "      <td>Pink Floyd</td>\n",
       "      <td>UK</td>\n",
       "      <td>10000</td>\n",
       "      <td>rock</td>\n",
       "      <td>1500</td>\n",
       "      <td>Europe</td>\n",
       "      <td>Pi</td>\n",
       "      <td>very popular</td>\n",
       "    </tr>\n",
       "    <tr>\n",
       "      <th>2</th>\n",
       "      <td>Metallica</td>\n",
       "      <td>US</td>\n",
       "      <td>500</td>\n",
       "      <td>metal</td>\n",
       "      <td>50</td>\n",
       "      <td>North America</td>\n",
       "      <td>Me</td>\n",
       "      <td>not popular</td>\n",
       "    </tr>\n",
       "    <tr>\n",
       "      <th>3</th>\n",
       "      <td>Cairokee</td>\n",
       "      <td>Egypt</td>\n",
       "      <td>200</td>\n",
       "      <td>rock</td>\n",
       "      <td>10</td>\n",
       "      <td>Africa</td>\n",
       "      <td>Ca</td>\n",
       "      <td>not popular</td>\n",
       "    </tr>\n",
       "    <tr>\n",
       "      <th>4</th>\n",
       "      <td>ACDC</td>\n",
       "      <td>US</td>\n",
       "      <td>250</td>\n",
       "      <td>rock</td>\n",
       "      <td>20</td>\n",
       "      <td>North America</td>\n",
       "      <td>AC</td>\n",
       "      <td>not popular</td>\n",
       "    </tr>\n",
       "    <tr>\n",
       "      <th>5</th>\n",
       "      <td>The Doors</td>\n",
       "      <td>US</td>\n",
       "      <td>1000</td>\n",
       "      <td>rock</td>\n",
       "      <td>80</td>\n",
       "      <td>North America</td>\n",
       "      <td>Th</td>\n",
       "      <td>very popular</td>\n",
       "    </tr>\n",
       "    <tr>\n",
       "      <th>6</th>\n",
       "      <td>Poets of The Fall</td>\n",
       "      <td>Finland</td>\n",
       "      <td>250</td>\n",
       "      <td>rock</td>\n",
       "      <td>10</td>\n",
       "      <td>Europe</td>\n",
       "      <td>Po</td>\n",
       "      <td>not popular</td>\n",
       "    </tr>\n",
       "    <tr>\n",
       "      <th>7</th>\n",
       "      <td>Megadeth</td>\n",
       "      <td>US</td>\n",
       "      <td>300</td>\n",
       "      <td>metal</td>\n",
       "      <td>20</td>\n",
       "      <td>North America</td>\n",
       "      <td>Me</td>\n",
       "      <td>not popular</td>\n",
       "    </tr>\n",
       "    <tr>\n",
       "      <th>8</th>\n",
       "      <td>Iron Maiden</td>\n",
       "      <td>UK</td>\n",
       "      <td>20000</td>\n",
       "      <td>metal</td>\n",
       "      <td>3500</td>\n",
       "      <td>Europe</td>\n",
       "      <td>Ir</td>\n",
       "      <td>very popular</td>\n",
       "    </tr>\n",
       "    <tr>\n",
       "      <th>9</th>\n",
       "      <td>Judas Priest</td>\n",
       "      <td>UK</td>\n",
       "      <td>5000</td>\n",
       "      <td>metal</td>\n",
       "      <td>1000</td>\n",
       "      <td>Europe</td>\n",
       "      <td>Ju</td>\n",
       "      <td>very popular</td>\n",
       "    </tr>\n",
       "  </tbody>\n",
       "</table>\n",
       "</div>"
      ],
      "text/plain": [
       "              artist  country  plays  genre  fans      continent initials  \\\n",
       "0        The Beatles       UK    150   rock    50         Europe       Th   \n",
       "1         Pink Floyd       UK  10000   rock  1500         Europe       Pi   \n",
       "2          Metallica       US    500  metal    50  North America       Me   \n",
       "3           Cairokee    Egypt    200   rock    10         Africa       Ca   \n",
       "4               ACDC       US    250   rock    20  North America       AC   \n",
       "5          The Doors       US   1000   rock    80  North America       Th   \n",
       "6  Poets of The Fall  Finland    250   rock    10         Europe       Po   \n",
       "7           Megadeth       US    300  metal    20  North America       Me   \n",
       "8        Iron Maiden       UK  20000  metal  3500         Europe       Ir   \n",
       "9       Judas Priest       UK   5000  metal  1000         Europe       Ju   \n",
       "\n",
       "     popularity  \n",
       "0   not popular  \n",
       "1  very popular  \n",
       "2   not popular  \n",
       "3   not popular  \n",
       "4   not popular  \n",
       "5  very popular  \n",
       "6   not popular  \n",
       "7   not popular  \n",
       "8  very popular  \n",
       "9  very popular  "
      ]
     },
     "execution_count": 94,
     "metadata": {},
     "output_type": "execute_result"
    }
   ],
   "source": [
    "# Classify band as v.popular,popular,not popular based on some condns\n",
    "def popularityfunction(plays,fans):\n",
    "    if plays > 1000 or fans > 50:\n",
    "        return \"very popular\"\n",
    "    elif plays > 500:\n",
    "        return \"popular\"\n",
    "    else:\n",
    "        return \"not popular\"\n",
    "# apply function is used when we want to apply to all rows of a dataframe\n",
    "music[\"popularity\"] = music.apply(lambda x: popularityfunction(x[\"plays\"],x[\"fans\"]),axis=1)    \n",
    "music"
   ]
  },
  {
   "cell_type": "code",
   "execution_count": 95,
   "metadata": {},
   "outputs": [
    {
     "data": {
      "text/html": [
       "<div>\n",
       "<style scoped>\n",
       "    .dataframe tbody tr th:only-of-type {\n",
       "        vertical-align: middle;\n",
       "    }\n",
       "\n",
       "    .dataframe tbody tr th {\n",
       "        vertical-align: top;\n",
       "    }\n",
       "\n",
       "    .dataframe thead th {\n",
       "        text-align: right;\n",
       "    }\n",
       "</style>\n",
       "<table border=\"1\" class=\"dataframe\">\n",
       "  <thead>\n",
       "    <tr style=\"text-align: right;\">\n",
       "      <th></th>\n",
       "      <th>US Sales</th>\n",
       "      <th>UK Sales</th>\n",
       "      <th>Egypt Sales</th>\n",
       "    </tr>\n",
       "    <tr>\n",
       "      <th>Band</th>\n",
       "      <th></th>\n",
       "      <th></th>\n",
       "      <th></th>\n",
       "    </tr>\n",
       "  </thead>\n",
       "  <tbody>\n",
       "    <tr>\n",
       "      <th>The Beatles</th>\n",
       "      <td>10k</td>\n",
       "      <td>20k</td>\n",
       "      <td>5k</td>\n",
       "    </tr>\n",
       "    <tr>\n",
       "      <th>Black Sabbath</th>\n",
       "      <td>3k</td>\n",
       "      <td>15k</td>\n",
       "      <td>3k</td>\n",
       "    </tr>\n",
       "  </tbody>\n",
       "</table>\n",
       "</div>"
      ],
      "text/plain": [
       "              US Sales UK Sales Egypt Sales\n",
       "Band                                       \n",
       "The Beatles        10k      20k          5k\n",
       "Black Sabbath       3k      15k          3k"
      ]
     },
     "execution_count": 95,
     "metadata": {},
     "output_type": "execute_result"
    }
   ],
   "source": [
    "musicsales = pd.read_csv('musicsales.csv').set_index('Band')\n",
    "musicsales"
   ]
  },
  {
   "cell_type": "code",
   "execution_count": 96,
   "metadata": {},
   "outputs": [
    {
     "data": {
      "text/html": [
       "<div>\n",
       "<style scoped>\n",
       "    .dataframe tbody tr th:only-of-type {\n",
       "        vertical-align: middle;\n",
       "    }\n",
       "\n",
       "    .dataframe tbody tr th {\n",
       "        vertical-align: top;\n",
       "    }\n",
       "\n",
       "    .dataframe thead th {\n",
       "        text-align: right;\n",
       "    }\n",
       "</style>\n",
       "<table border=\"1\" class=\"dataframe\">\n",
       "  <thead>\n",
       "    <tr style=\"text-align: right;\">\n",
       "      <th></th>\n",
       "      <th>US Sales</th>\n",
       "      <th>UK Sales</th>\n",
       "      <th>Egypt Sales</th>\n",
       "    </tr>\n",
       "    <tr>\n",
       "      <th>Band</th>\n",
       "      <th></th>\n",
       "      <th></th>\n",
       "      <th></th>\n",
       "    </tr>\n",
       "  </thead>\n",
       "  <tbody>\n",
       "    <tr>\n",
       "      <th>The Beatles</th>\n",
       "      <td>10000</td>\n",
       "      <td>20000</td>\n",
       "      <td>5000</td>\n",
       "    </tr>\n",
       "    <tr>\n",
       "      <th>Black Sabbath</th>\n",
       "      <td>3000</td>\n",
       "      <td>15000</td>\n",
       "      <td>3000</td>\n",
       "    </tr>\n",
       "  </tbody>\n",
       "</table>\n",
       "</div>"
      ],
      "text/plain": [
       "               US Sales  UK Sales  Egypt Sales\n",
       "Band                                          \n",
       "The Beatles       10000     20000         5000\n",
       "Black Sabbath      3000     15000         3000"
      ]
     },
     "execution_count": 96,
     "metadata": {},
     "output_type": "execute_result"
    }
   ],
   "source": [
    "# replace k in dataset and multiply by 1000\n",
    "replaced = musicsales.applymap(lambda x: int(x.replace('k',''))*1000)\n",
    "replaced"
   ]
  },
  {
   "attachments": {},
   "cell_type": "markdown",
   "metadata": {},
   "source": [
    "### Merging and Concatenating"
   ]
  },
  {
   "cell_type": "code",
   "execution_count": 107,
   "metadata": {},
   "outputs": [
    {
     "data": {
      "text/html": [
       "<div>\n",
       "<style scoped>\n",
       "    .dataframe tbody tr th:only-of-type {\n",
       "        vertical-align: middle;\n",
       "    }\n",
       "\n",
       "    .dataframe tbody tr th {\n",
       "        vertical-align: top;\n",
       "    }\n",
       "\n",
       "    .dataframe thead th {\n",
       "        text-align: right;\n",
       "    }\n",
       "</style>\n",
       "<table border=\"1\" class=\"dataframe\">\n",
       "  <thead>\n",
       "    <tr style=\"text-align: right;\">\n",
       "      <th></th>\n",
       "      <th>total_plays</th>\n",
       "    </tr>\n",
       "    <tr>\n",
       "      <th>name</th>\n",
       "      <th></th>\n",
       "    </tr>\n",
       "  </thead>\n",
       "  <tbody>\n",
       "    <tr>\n",
       "      <th>UK</th>\n",
       "      <td>35150</td>\n",
       "    </tr>\n",
       "    <tr>\n",
       "      <th>US</th>\n",
       "      <td>2050</td>\n",
       "    </tr>\n",
       "    <tr>\n",
       "      <th>Finland</th>\n",
       "      <td>250</td>\n",
       "    </tr>\n",
       "    <tr>\n",
       "      <th>Egypt</th>\n",
       "      <td>200</td>\n",
       "    </tr>\n",
       "  </tbody>\n",
       "</table>\n",
       "</div>"
      ],
      "text/plain": [
       "         total_plays\n",
       "name                \n",
       "UK             35150\n",
       "US              2050\n",
       "Finland          250\n",
       "Egypt            200"
      ]
     },
     "execution_count": 107,
     "metadata": {},
     "output_type": "execute_result"
    }
   ],
   "source": [
    "# Merge music2 and countries dataset based on country ids and then give total plays of each country\n",
    "music2 = pd.read_csv(\"music2.csv\")\n",
    "countries = pd.read_csv(\"countries.csv\")\n",
    "\n",
    "merged_music2 = music2.merge(countries, left_on=\"country\", right_on=\"country_id\")\n",
    "\n",
    "result = merged_music2.groupby('name').agg(\n",
    "    total_plays = (\"plays\",\"sum\"),\n",
    ").sort_values(\n",
    "    by=\"total_plays\",\n",
    "    ascending=False\n",
    ") \n",
    "result"
   ]
  },
  {
   "cell_type": "code",
   "execution_count": 108,
   "metadata": {},
   "outputs": [
    {
     "data": {
      "text/plain": [
       "0"
      ]
     },
     "execution_count": 108,
     "metadata": {},
     "output_type": "execute_result"
    }
   ],
   "source": [
    "# Total of plays of artists whose country is NaN on merging\n",
    "merged_music2 = music2.merge(countries,how=\"left\",left_on=\"country\", right_on=\"country_id\")\n",
    "result = merged_music2[merged_music2[\"name\"].isna()][\"plays\"].sum()\n",
    "result"
   ]
  },
  {
   "cell_type": "code",
   "execution_count": 130,
   "metadata": {},
   "outputs": [
    {
     "data": {
      "text/plain": [
       "46150"
      ]
     },
     "execution_count": 130,
     "metadata": {},
     "output_type": "execute_result"
    }
   ],
   "source": [
    "# Concat music2 and music3 dataset and find total plays\n",
    "music3 = pd.read_csv(\"music3.csv\")\n",
    "combined_music = pd.concat([music2, music3], join=\"inner\", ignore_index=True)\n",
    "combined_music[\"plays\"].sum()\n"
   ]
  },
  {
   "cell_type": "code",
   "execution_count": 131,
   "metadata": {},
   "outputs": [
    {
     "data": {
      "text/plain": [
       "['Leprous', 'Rush']"
      ]
     },
     "execution_count": 131,
     "metadata": {},
     "output_type": "execute_result"
    }
   ],
   "source": [
    "# Concat music3 and music_monthly dataset and give name of bands having monthly listeners to fans ratio greater than 0.5\n",
    "music_monthly = pd.read_csv(\"music_monthly.csv\")\n",
    "music3.set_index(\"artist\",inplace=True)\n",
    "music_monthly.set_index(\"artist\",inplace=True)\n",
    "combined_music = pd.concat([music3, music_monthly], axis=1)\n",
    "combined_music[\"ratio\"] = combined_music[\"monthly_listeners\"]/combined_music[\"fans\"]\n",
    "res = combined_music[combined_music[\"ratio\"]>0.5].index.values.tolist()\n",
    "res "
   ]
  }
 ],
 "metadata": {
  "kernelspec": {
   "display_name": "base",
   "language": "python",
   "name": "python3"
  },
  "language_info": {
   "codemirror_mode": {
    "name": "ipython",
    "version": 3
   },
   "file_extension": ".py",
   "mimetype": "text/x-python",
   "name": "python",
   "nbconvert_exporter": "python",
   "pygments_lexer": "ipython3",
   "version": "3.9.12"
  },
  "orig_nbformat": 4
 },
 "nbformat": 4,
 "nbformat_minor": 2
}
